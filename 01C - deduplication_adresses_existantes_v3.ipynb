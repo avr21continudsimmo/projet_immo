{
 "cells": [
  {
   "cell_type": "markdown",
   "id": "e32f5a51",
   "metadata": {},
   "source": [
    "# Objectif du script : \n",
    "- Dédupliquer les adresses afin de limiter au maximum les appels aux API de récupération des coordonnées GPS (et codes IRIS)"
   ]
  },
  {
   "cell_type": "code",
   "execution_count": 28,
   "id": "5c707c47",
   "metadata": {},
   "outputs": [],
   "source": [
    "import pandas as pd"
   ]
  },
  {
   "cell_type": "code",
   "execution_count": 29,
   "id": "d606ad22",
   "metadata": {},
   "outputs": [],
   "source": [
    "year_min = 2016\n",
    "year_max = 2021\n",
    "\n",
    "filename = '01A - export_dvf_adresses_'"
   ]
  },
  {
   "cell_type": "code",
   "execution_count": 30,
   "id": "d2957666",
   "metadata": {},
   "outputs": [
    {
     "name": "stdout",
     "output_type": "stream",
     "text": [
      "Traitement du fichier: 01A - export_dvf_adresses_\n",
      "Shape avant drop duplicates: (1059387, 9)\n",
      "Shape avant drop duplicates: (1058547, 9)\n",
      "Traitement du fichier: 01A - export_dvf_adresses_\n",
      "Shape avant drop duplicates: (1415467, 9)\n",
      "Shape avant drop duplicates: (1414280, 9)\n",
      "Traitement du fichier: 01A - export_dvf_adresses_\n",
      "Shape avant drop duplicates: (542237, 9)\n",
      "Shape avant drop duplicates: (541782, 9)\n",
      "Traitement du fichier: 01A - export_dvf_adresses_\n",
      "Shape avant drop duplicates: (1331113, 9)\n",
      "Shape avant drop duplicates: (1330135, 9)\n",
      "Traitement du fichier: 01A - export_dvf_adresses_\n",
      "Shape avant drop duplicates: (1327380, 9)\n",
      "Shape avant drop duplicates: (1326446, 9)\n",
      "Traitement du fichier: 01A - export_dvf_adresses_\n",
      "Shape avant drop duplicates: (1196031, 9)\n",
      "Shape avant drop duplicates: (1195121, 9)\n"
     ]
    }
   ],
   "source": [
    "def dedup_dvf(year):\n",
    "    df = pd.read_csv(filename + str(year) + '.csv', sep=\",\",\n",
    "                dtype = {'Code postal': str, 'Code departement': str, 'Code commune INSEE': str})\n",
    "    df = df.drop(columns = {'Unnamed: 0'})\n",
    "    print('Traitement du fichier: ' + filename)\n",
    "    print(\"Shape avant drop duplicates: \" + str(df.shape))\n",
    "    df = df.drop_duplicates(subset = \"Adresse\")\n",
    "    print(\"Shape avant drop duplicates: \" + str(df.shape))\n",
    "    df['year'] = year\n",
    "    return df\n",
    "\n",
    "# On prend 2020 comme référence car c'est la base qui a été utilisée initialement (et pour laquelle on a pu récupérer\n",
    "# les codes IRIS\n",
    "\n",
    "df_2020 = dedup_dvf(2020)\n",
    "df_2021 = dedup_dvf(2021)\n",
    "df_2019 = dedup_dvf(2019)\n",
    "\n",
    "df_2018 = dedup_dvf(2018)\n",
    "df_2017 = dedup_dvf(2017)\n",
    "df_2016 = dedup_dvf(2016)"
   ]
  },
  {
   "cell_type": "code",
   "execution_count": 31,
   "id": "739286c4",
   "metadata": {},
   "outputs": [
    {
     "data": {
      "text/plain": [
       "(6866311, 10)"
      ]
     },
     "execution_count": 31,
     "metadata": {},
     "output_type": "execute_result"
    }
   ],
   "source": [
    "df_all = pd.concat([df_2020, df_2019, df_2021, df_2018, df_2017, df_2016])\n",
    "df_all.shape"
   ]
  },
  {
   "cell_type": "code",
   "execution_count": 32,
   "id": "5cf079b3",
   "metadata": {},
   "outputs": [
    {
     "data": {
      "text/plain": [
       "year\n",
       "2016    1195121\n",
       "2017    1326446\n",
       "2018    1330135\n",
       "2019    1414280\n",
       "2020    1058547\n",
       "2021     541782\n",
       "Name: Adresse, dtype: int64"
      ]
     },
     "execution_count": 32,
     "metadata": {},
     "output_type": "execute_result"
    }
   ],
   "source": [
    "df_all.groupby('year')['Adresse'].count()"
   ]
  },
  {
   "cell_type": "code",
   "execution_count": 33,
   "id": "e27cedbe",
   "metadata": {},
   "outputs": [],
   "source": [
    "df_all = df_all.drop_duplicates(subset = \"Adresse\", keep = 'first')"
   ]
  },
  {
   "cell_type": "code",
   "execution_count": 34,
   "id": "812f1844",
   "metadata": {},
   "outputs": [
    {
     "data": {
      "text/plain": [
       "(4989991, 10)"
      ]
     },
     "execution_count": 34,
     "metadata": {},
     "output_type": "execute_result"
    }
   ],
   "source": [
    "df_all.shape"
   ]
  },
  {
   "cell_type": "code",
   "execution_count": 35,
   "id": "ecdda8d8",
   "metadata": {},
   "outputs": [
    {
     "data": {
      "text/plain": [
       "year\n",
       "2016     678942\n",
       "2017     823054\n",
       "2018     904486\n",
       "2019    1171415\n",
       "2020    1058547\n",
       "2021     353547\n",
       "Name: Adresse, dtype: int64"
      ]
     },
     "execution_count": 35,
     "metadata": {},
     "output_type": "execute_result"
    }
   ],
   "source": [
    "df_all.groupby('year')['Adresse'].count()"
   ]
  },
  {
   "cell_type": "code",
   "execution_count": 36,
   "id": "11aaded5",
   "metadata": {},
   "outputs": [],
   "source": [
    "# Export des adresses de la base 2020\n",
    "df_all = df_all[df_all['year'] == 2020]"
   ]
  },
  {
   "cell_type": "code",
   "execution_count": 37,
   "id": "3b1b2ede",
   "metadata": {},
   "outputs": [],
   "source": [
    "df_all.to_csv('01C - adresses 2020.csv')"
   ]
  },
  {
   "cell_type": "code",
   "execution_count": null,
   "id": "ce59eff3",
   "metadata": {},
   "outputs": [],
   "source": []
  }
 ],
 "metadata": {
  "kernelspec": {
   "display_name": "Python 3",
   "language": "python",
   "name": "python3"
  },
  "language_info": {
   "codemirror_mode": {
    "name": "ipython",
    "version": 3
   },
   "file_extension": ".py",
   "mimetype": "text/x-python",
   "name": "python",
   "nbconvert_exporter": "python",
   "pygments_lexer": "ipython3",
   "version": "3.8.10"
  }
 },
 "nbformat": 4,
 "nbformat_minor": 5
}
