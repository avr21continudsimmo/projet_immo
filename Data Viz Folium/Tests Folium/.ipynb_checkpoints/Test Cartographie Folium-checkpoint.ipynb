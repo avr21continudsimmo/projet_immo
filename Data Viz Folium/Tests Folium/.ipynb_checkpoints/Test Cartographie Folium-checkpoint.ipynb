{
 "cells": [
  {
   "cell_type": "code",
   "execution_count": 83,
   "metadata": {},
   "outputs": [],
   "source": [
    "import folium"
   ]
  },
  {
   "cell_type": "code",
   "execution_count": 84,
   "metadata": {},
   "outputs": [],
   "source": [
    "# Test 1\n",
    "coords = (48.8398094,2.5840685)\n",
    "map = folium.Map(location=coords, tiles='OpenStreetMap', zoom_start=15)\n",
    "map.save(outfile='map.html')"
   ]
  },
  {
   "cell_type": "code",
   "execution_count": 85,
   "metadata": {},
   "outputs": [],
   "source": [
    "# Test 2\n",
    "coords = [48.8490591,2.577023]\n",
    "folium.Marker(location=coords, popup = \"ESIEE Paris\").add_to(map)\n",
    "map.save(outfile='map.html')"
   ]
  },
  {
   "cell_type": "code",
   "execution_count": 86,
   "metadata": {},
   "outputs": [],
   "source": [
    "# Test 3\n",
    "\n",
    "STATIONS = ['ABBEVILLE', 'AJACCIO', 'ALENCON', 'BALE-MULHOUSE',\n",
    "            'BELLE ILE-LE TALUT', 'BORDEAUX-MERIGNAC', 'BOURGES',\n",
    "            'BREST-GUIPAVAS', 'CAEN-CARPIQUET', 'CAP CEPET',\n",
    "            'CLERMONT-FD', 'DIJON-LONGVIC', 'EMBRUN', 'GOURDON',\n",
    "            'LE PUY-LOUDES', 'LILLE-LESQUIN', 'LIMOGES-BELLEGARDE',\n",
    "            'LYON-ST EXUPERY', 'MARIGNANE', 'MILLAU', 'MONT-DE-MARSAN',\n",
    "            'MONTELIMAR', 'MONTPELLIER', 'NANCY-OCHEY',\n",
    "            'NANTES-BOUGUENAIS', 'NICE', 'ORLY', 'PERPIGNAN',\n",
    "            \"PLOUMANAC'H\", 'POITIERS-BIARD', 'PTE DE CHASSIRON',\n",
    "            'PTE DE LA HAGUE', 'REIMS-PRUNAY', 'RENNES-ST JACQUES',\n",
    "            'ROUEN-BOOS', 'ST GIRONS', 'STRASBOURG-ENTZHEIM',\n",
    "            'TARBES-OSSUN', 'TOULOUSE-BLAGNAC', 'TOURS', 'TROYES-BARBEREY']\n",
    "\n",
    "LATS = [50.136, 41.918, 48.4455, 47.614333, 47.294333,\n",
    "        44.830667, 47.059167, 48.444167, 49.18, 43.079333,\n",
    "        45.786833, 47.267833, 44.565667, 44.745, 45.0745,\n",
    "        50.57, 45.861167, 45.7265, 43.437667, 44.1185,\n",
    "        43.909833, 44.581167, 43.577, 48.581, 47.15,\n",
    "        43.648833, 48.716833, 42.737167, 48.825833,\n",
    "        46.593833, 46.046833, 49.725167, 49.209667,\n",
    "        48.068833, 49.383, 43.005333, 48.5495, 43.188,\n",
    "        43.621, 47.4445, 48.324667]\n",
    "\n",
    "LONGS = [1.834, 8.792667, 0.110167, 7.51, -3.218333, -0.691333,\n",
    "         2.359833, -4.412, -0.456167, 5.940833, 3.149333, 5.088333,\n",
    "         6.502333, 1.396667, 3.764, 3.0975, 1.175, 5.077833, 5.216,\n",
    "         3.0195, -0.500167, 4.733, 3.963167, 5.959833, -1.608833,\n",
    "         7.209, 2.384333, 2.872833, -3.473167, 0.314333, -1.4115,\n",
    "         -1.939833, 4.155333, -1.734, 1.181667, 1.106833, 7.640333,\n",
    "         0.0, 1.378833, 0.727333, 4.02]\n",
    "\n",
    "TEMPS = [7.6, 13.5, 7.6, 6.8, 10.5, 11.5, 8.5, 9.7, 8.6, 11.8, 9.1,\n",
    "         7.2, 5.7, 9.2, 6.0, 7.2, 7.6, 8.4, 12.0, 6.1, 11.6, 9.6, 11.7,\n",
    "         6.5, 10.0, 11.7, 8.1, 12.6, 9.9, 9.1, 10.8, 9.5, 7.4, 9.0,\n",
    "         7.1, 10.3, 6.7, 10.8, 10.6, 8.4, 8.1]\n",
    "\n",
    "import folium\n",
    "coords = (46.539758, 2.430331)\n",
    "map = folium.Map(location=coords, tiles='OpenStreetMap', zoom_start=6)\n",
    "\n",
    "for i in range(len(STATIONS)):\n",
    "    folium.CircleMarker(\n",
    "        location = (LATS[i], LONGS[i]),\n",
    "        radius = TEMPS[i]*2,\n",
    "        color = 'crimson',\n",
    "        fill = True,\n",
    "        fill_color = 'crimson'\n",
    "    ).add_to(map)\n",
    "    \n",
    "map.save(outfile='map.html')"
   ]
  },
  {
   "cell_type": "code",
   "execution_count": 87,
   "metadata": {},
   "outputs": [],
   "source": [
    "# Test 4\n",
    "\n",
    "import folium, branca\n",
    "\n",
    "coords = (46.539758, 2.430331)\n",
    "map = folium.Map(location=coords, tiles='OpenStreetMap', zoom_start=6)\n",
    "\n",
    "cm = branca.colormap.LinearColormap(['blue', 'red'], vmin=min(TEMPS), vmax=max(TEMPS))\n",
    "map.add_child(cm) # add this colormap on the display\n",
    "\n",
    "for lat, lng, size, color in zip(LATS, LONGS, TEMPS, TEMPS):\n",
    "    folium.CircleMarker(\n",
    "        location=[lat, lng],\n",
    "        radius=size,\n",
    "        color=cm(color),\n",
    "        fill=True,\n",
    "        fill_color=cm(color),\n",
    "        fill_opacity=0.6\n",
    "    ).add_to(map)\n",
    "\n",
    "map.save(outfile='map.html')"
   ]
  },
  {
   "cell_type": "code",
   "execution_count": 88,
   "metadata": {},
   "outputs": [
    {
     "data": {
      "text/html": [
       "<div>\n",
       "<style scoped>\n",
       "    .dataframe tbody tr th:only-of-type {\n",
       "        vertical-align: middle;\n",
       "    }\n",
       "\n",
       "    .dataframe tbody tr th {\n",
       "        vertical-align: top;\n",
       "    }\n",
       "\n",
       "    .dataframe thead th {\n",
       "        text-align: right;\n",
       "    }\n",
       "</style>\n",
       "<table border=\"1\" class=\"dataframe\">\n",
       "  <thead>\n",
       "    <tr style=\"text-align: right;\">\n",
       "      <th></th>\n",
       "      <th>insee</th>\n",
       "      <th>nom</th>\n",
       "      <th>wikipedia</th>\n",
       "      <th>surf_ha</th>\n",
       "      <th>geometry</th>\n",
       "    </tr>\n",
       "  </thead>\n",
       "  <tbody>\n",
       "    <tr>\n",
       "      <th>0</th>\n",
       "      <td>30225</td>\n",
       "      <td>Sabran</td>\n",
       "      <td>fr:Sabran (Gard)</td>\n",
       "      <td>3563.0</td>\n",
       "      <td>POLYGON ((4.49703 44.14344, 4.49727 44.14398, ...</td>\n",
       "    </tr>\n",
       "    <tr>\n",
       "      <th>1</th>\n",
       "      <td>26334</td>\n",
       "      <td>Salettes</td>\n",
       "      <td>fr:Salettes (Drôme)</td>\n",
       "      <td>706.0</td>\n",
       "      <td>POLYGON ((4.94213 44.57481, 4.94283 44.57501, ...</td>\n",
       "    </tr>\n",
       "    <tr>\n",
       "      <th>2</th>\n",
       "      <td>04200</td>\n",
       "      <td>Salignac</td>\n",
       "      <td>fr:Salignac (Alpes-de-Haute-Provence)</td>\n",
       "      <td>1435.0</td>\n",
       "      <td>POLYGON ((5.95337 44.15613, 5.95341 44.15649, ...</td>\n",
       "    </tr>\n",
       "    <tr>\n",
       "      <th>3</th>\n",
       "      <td>04179</td>\n",
       "      <td>Saint-Geniez</td>\n",
       "      <td>fr:Saint-Geniez</td>\n",
       "      <td>3900.0</td>\n",
       "      <td>POLYGON ((5.98593 44.23280, 5.98654 44.23292, ...</td>\n",
       "    </tr>\n",
       "    <tr>\n",
       "      <th>4</th>\n",
       "      <td>05162</td>\n",
       "      <td>La Saulce</td>\n",
       "      <td>fr:La Saulce</td>\n",
       "      <td>771.0</td>\n",
       "      <td>POLYGON ((5.98920 44.41892, 5.98921 44.41894, ...</td>\n",
       "    </tr>\n",
       "  </tbody>\n",
       "</table>\n",
       "</div>"
      ],
      "text/plain": [
       "   insee           nom                              wikipedia  surf_ha  \\\n",
       "0  30225        Sabran                       fr:Sabran (Gard)   3563.0   \n",
       "1  26334      Salettes                    fr:Salettes (Drôme)    706.0   \n",
       "2  04200      Salignac  fr:Salignac (Alpes-de-Haute-Provence)   1435.0   \n",
       "3  04179  Saint-Geniez                        fr:Saint-Geniez   3900.0   \n",
       "4  05162     La Saulce                           fr:La Saulce    771.0   \n",
       "\n",
       "                                            geometry  \n",
       "0  POLYGON ((4.49703 44.14344, 4.49727 44.14398, ...  \n",
       "1  POLYGON ((4.94213 44.57481, 4.94283 44.57501, ...  \n",
       "2  POLYGON ((5.95337 44.15613, 5.95341 44.15649, ...  \n",
       "3  POLYGON ((5.98593 44.23280, 5.98654 44.23292, ...  \n",
       "4  POLYGON ((5.98920 44.41892, 5.98921 44.41894, ...  "
      ]
     },
     "execution_count": 88,
     "metadata": {},
     "output_type": "execute_result"
    }
   ],
   "source": [
    "# Test 5\n",
    "\n",
    "import geojson, geopandas\n",
    "\n",
    "# lecture des données initiales\n",
    "c = geopandas.read_file(\"communes-20210101.shp\")\n",
    "\n",
    "c.head()"
   ]
  },
  {
   "cell_type": "code",
   "execution_count": 89,
   "metadata": {},
   "outputs": [],
   "source": [
    "# Test 5 Suite\n",
    "\n",
    "# Filtrage\n",
    "c_idf = c[c[\"insee\"].str.startswith(\"75\")]\n",
    "c_bdx = c[c[\"insee\"].str.startswith(\"33\")]\n",
    "\n",
    "for dpt in [\"77\", \"78\", \"91\", \"92\", \"93\", \"94\", \"95\"]:\n",
    "    c_idf = c_idf.append(c[c[\"insee\"].str.startswith(dpt)])\n",
    "\n",
    "# écriture des données filtrées\n",
    "with open(\"idf.geojson\", \"w\") as f:\n",
    "    geojson.dump(c_idf, f)\n",
    "    \n",
    "with open(\"bdx.geojson\", \"w\") as f:\n",
    "    geojson.dump(c_bdx, f)\n",
    "    \n",
    "import folium\n",
    "\n",
    "coords = (48.7453229,2.5073644)\n",
    "map = folium.Map(location=coords, tiles='OpenStreetMap', zoom_start=9)\n",
    "\n",
    "#style function\n",
    "sf = lambda x :{'fillColor':'#E88300', 'fillOpacity':0.5, 'color':'#E84000', 'weight':1, 'opacity':1}\n",
    "\n",
    "folium.GeoJson(\n",
    "    data=\"idf.geojson\",\n",
    "    name=\"idf\",\n",
    "    style_function= sf\n",
    ").add_to(map)\n",
    "\n",
    "map.save(outfile='map.html')"
   ]
  },
  {
   "cell_type": "code",
   "execution_count": 90,
   "metadata": {},
   "outputs": [],
   "source": [
    "# Test 6 : map choroplète\n",
    "\n",
    "import pandas as pd\n",
    "pop_data = pd.read_csv('insee-pop-communes.csv', sep=';')"
   ]
  },
  {
   "cell_type": "code",
   "execution_count": 91,
   "metadata": {},
   "outputs": [
    {
     "data": {
      "text/html": [
       "<div>\n",
       "<style scoped>\n",
       "    .dataframe tbody tr th:only-of-type {\n",
       "        vertical-align: middle;\n",
       "    }\n",
       "\n",
       "    .dataframe tbody tr th {\n",
       "        vertical-align: top;\n",
       "    }\n",
       "\n",
       "    .dataframe thead th {\n",
       "        text-align: right;\n",
       "    }\n",
       "</style>\n",
       "<table border=\"1\" class=\"dataframe\">\n",
       "  <thead>\n",
       "    <tr style=\"text-align: right;\">\n",
       "      <th></th>\n",
       "      <th>DEPCOM</th>\n",
       "      <th>COM</th>\n",
       "      <th>PMUN</th>\n",
       "      <th>PCAP</th>\n",
       "      <th>PTOT</th>\n",
       "    </tr>\n",
       "  </thead>\n",
       "  <tbody>\n",
       "    <tr>\n",
       "      <th>0</th>\n",
       "      <td>01001</td>\n",
       "      <td>L' Abergement-Clémenciat</td>\n",
       "      <td>776</td>\n",
       "      <td>18</td>\n",
       "      <td>794</td>\n",
       "    </tr>\n",
       "    <tr>\n",
       "      <th>1</th>\n",
       "      <td>01002</td>\n",
       "      <td>L' Abergement-de-Varey</td>\n",
       "      <td>248</td>\n",
       "      <td>1</td>\n",
       "      <td>249</td>\n",
       "    </tr>\n",
       "    <tr>\n",
       "      <th>2</th>\n",
       "      <td>01004</td>\n",
       "      <td>Ambérieu-en-Bugey</td>\n",
       "      <td>14035</td>\n",
       "      <td>393</td>\n",
       "      <td>14428</td>\n",
       "    </tr>\n",
       "    <tr>\n",
       "      <th>3</th>\n",
       "      <td>01005</td>\n",
       "      <td>Ambérieux-en-Dombes</td>\n",
       "      <td>1689</td>\n",
       "      <td>34</td>\n",
       "      <td>1723</td>\n",
       "    </tr>\n",
       "    <tr>\n",
       "      <th>4</th>\n",
       "      <td>01006</td>\n",
       "      <td>Ambléon</td>\n",
       "      <td>111</td>\n",
       "      <td>6</td>\n",
       "      <td>117</td>\n",
       "    </tr>\n",
       "  </tbody>\n",
       "</table>\n",
       "</div>"
      ],
      "text/plain": [
       "  DEPCOM                       COM   PMUN  PCAP   PTOT\n",
       "0  01001  L' Abergement-Clémenciat    776    18    794\n",
       "1  01002    L' Abergement-de-Varey    248     1    249\n",
       "2  01004         Ambérieu-en-Bugey  14035   393  14428\n",
       "3  01005       Ambérieux-en-Dombes   1689    34   1723\n",
       "4  01006                   Ambléon    111     6    117"
      ]
     },
     "execution_count": 91,
     "metadata": {},
     "output_type": "execute_result"
    }
   ],
   "source": [
    "pop_data.head()"
   ]
  },
  {
   "cell_type": "code",
   "execution_count": 92,
   "metadata": {},
   "outputs": [
    {
     "data": {
      "text/plain": [
       "(34995, 5)"
      ]
     },
     "execution_count": 92,
     "metadata": {},
     "output_type": "execute_result"
    }
   ],
   "source": [
    "pop_data.shape"
   ]
  },
  {
   "cell_type": "code",
   "execution_count": 93,
   "metadata": {},
   "outputs": [
    {
     "data": {
      "text/plain": [
       "0        False\n",
       "1        False\n",
       "2        False\n",
       "3        False\n",
       "4        False\n",
       "         ...  \n",
       "34990    False\n",
       "34991    False\n",
       "34992    False\n",
       "34993    False\n",
       "34994    False\n",
       "Name: DEPCOM, Length: 34995, dtype: bool"
      ]
     },
     "execution_count": 93,
     "metadata": {},
     "output_type": "execute_result"
    }
   ],
   "source": [
    "dpt_code = pop_data['DEPCOM']\n",
    "\n",
    "mask = ( ( dpt_code.str.startswith('75')  ) | \n",
    "        ( dpt_code.str.startswith('77') ) | \n",
    "        ( dpt_code.str.startswith('78') ) | \n",
    "        ( dpt_code.str.startswith('91') ) | \n",
    "        ( dpt_code.str.startswith('92') ) | \n",
    "        ( dpt_code.str.startswith('93') ) | \n",
    "        ( dpt_code.str.startswith('94') ) | \n",
    "        ( dpt_code.str.startswith('95') ) )\n",
    "\n",
    "mask"
   ]
  },
  {
   "cell_type": "code",
   "execution_count": 94,
   "metadata": {},
   "outputs": [
    {
     "data": {
      "text/plain": [
       "(34995, 5)"
      ]
     },
     "execution_count": 94,
     "metadata": {},
     "output_type": "execute_result"
    }
   ],
   "source": [
    "pop_data_idf = pop_data[mask]\n",
    "pop_data.shape"
   ]
  },
  {
   "cell_type": "code",
   "execution_count": 95,
   "metadata": {},
   "outputs": [
    {
     "data": {
      "text/html": [
       "<div>\n",
       "<style scoped>\n",
       "    .dataframe tbody tr th:only-of-type {\n",
       "        vertical-align: middle;\n",
       "    }\n",
       "\n",
       "    .dataframe tbody tr th {\n",
       "        vertical-align: top;\n",
       "    }\n",
       "\n",
       "    .dataframe thead th {\n",
       "        text-align: right;\n",
       "    }\n",
       "</style>\n",
       "<table border=\"1\" class=\"dataframe\">\n",
       "  <thead>\n",
       "    <tr style=\"text-align: right;\">\n",
       "      <th></th>\n",
       "      <th>DEPCOM</th>\n",
       "      <th>COM</th>\n",
       "      <th>PMUN</th>\n",
       "      <th>PCAP</th>\n",
       "      <th>PTOT</th>\n",
       "    </tr>\n",
       "  </thead>\n",
       "  <tbody>\n",
       "    <tr>\n",
       "      <th>12327</th>\n",
       "      <td>33001</td>\n",
       "      <td>Abzac</td>\n",
       "      <td>1937</td>\n",
       "      <td>26</td>\n",
       "      <td>1963</td>\n",
       "    </tr>\n",
       "    <tr>\n",
       "      <th>12328</th>\n",
       "      <td>33002</td>\n",
       "      <td>Aillas</td>\n",
       "      <td>822</td>\n",
       "      <td>14</td>\n",
       "      <td>836</td>\n",
       "    </tr>\n",
       "    <tr>\n",
       "      <th>12329</th>\n",
       "      <td>33003</td>\n",
       "      <td>Ambarès-et-Lagrave</td>\n",
       "      <td>16344</td>\n",
       "      <td>136</td>\n",
       "      <td>16480</td>\n",
       "    </tr>\n",
       "    <tr>\n",
       "      <th>12330</th>\n",
       "      <td>33004</td>\n",
       "      <td>Ambès</td>\n",
       "      <td>3128</td>\n",
       "      <td>20</td>\n",
       "      <td>3148</td>\n",
       "    </tr>\n",
       "    <tr>\n",
       "      <th>12331</th>\n",
       "      <td>33005</td>\n",
       "      <td>Andernos-les-Bains</td>\n",
       "      <td>11645</td>\n",
       "      <td>252</td>\n",
       "      <td>11897</td>\n",
       "    </tr>\n",
       "  </tbody>\n",
       "</table>\n",
       "</div>"
      ],
      "text/plain": [
       "      DEPCOM                 COM   PMUN  PCAP   PTOT\n",
       "12327  33001               Abzac   1937    26   1963\n",
       "12328  33002              Aillas    822    14    836\n",
       "12329  33003  Ambarès-et-Lagrave  16344   136  16480\n",
       "12330  33004               Ambès   3128    20   3148\n",
       "12331  33005  Andernos-les-Bains  11645   252  11897"
      ]
     },
     "execution_count": 95,
     "metadata": {},
     "output_type": "execute_result"
    }
   ],
   "source": [
    "pop_data_33 = pop_data[pop_data['DEPCOM'].str.startswith('33')]\n",
    "pop_data_33.head()"
   ]
  },
  {
   "cell_type": "code",
   "execution_count": 96,
   "metadata": {},
   "outputs": [],
   "source": [
    "# Map Bordeaux\n",
    "\n",
    "coords = (44.853752,-0.620639)\n",
    "map = folium.Map(location=coords, tiles='OpenStreetMap', zoom_start=9)\n",
    "\n",
    "folium.Choropleth(\n",
    "    geo_data = 'bdx.geojson',\n",
    "    name = 'choropleth',\n",
    "    data = pop_data_33,\n",
    "    columns = ['DEPCOM', 'PTOT'], # data key/value pair\n",
    "    key_on = 'feature.properties.insee', # corresponding layer in GeoJSON\n",
    "    fill_color = 'YlGn',\n",
    "    fill_opacity = 0.7,\n",
    "    line_opacity = 0.2,\n",
    "    legend_name = 'Population'\n",
    ").add_to(map)\n",
    "\n",
    "map.save(outfile = 'map_bdx.html')"
   ]
  },
  {
   "cell_type": "code",
   "execution_count": 97,
   "metadata": {},
   "outputs": [],
   "source": [
    "# Map IdF\n",
    "\n",
    "coords = (48.7190835,2.4609723)\n",
    "map = folium.Map(location=coords, tiles='OpenStreetMap', zoom_start=9)\n",
    "\n",
    "folium.Choropleth(\n",
    "    geo_data = 'idf.geojson',\n",
    "    name = 'choropleth',\n",
    "    data = pop_data_idf,\n",
    "    columns = ['DEPCOM', 'PTOT'], # data key/value pair\n",
    "    key_on = 'feature.properties.insee', # corresponding layer in GeoJSON\n",
    "    fill_color = 'YlGn',\n",
    "    fill_opacity = 0.7,\n",
    "    line_opacity = 0.2,\n",
    "    legend_name = 'Population'\n",
    ").add_to(map)\n",
    "\n",
    "map.save(outfile = 'map_idf.html')"
   ]
  },
  {
   "cell_type": "code",
   "execution_count": null,
   "metadata": {},
   "outputs": [],
   "source": []
  }
 ],
 "metadata": {
  "kernelspec": {
   "display_name": "Python 3",
   "language": "python",
   "name": "python3"
  },
  "language_info": {
   "codemirror_mode": {
    "name": "ipython",
    "version": 3
   },
   "file_extension": ".py",
   "mimetype": "text/x-python",
   "name": "python",
   "nbconvert_exporter": "python",
   "pygments_lexer": "ipython3",
   "version": "3.7.6"
  }
 },
 "nbformat": 4,
 "nbformat_minor": 4
}
