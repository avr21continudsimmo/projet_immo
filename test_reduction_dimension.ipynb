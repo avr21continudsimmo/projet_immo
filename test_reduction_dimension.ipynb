{
 "cells": [
  {
   "cell_type": "markdown",
   "id": "aac9ec08",
   "metadata": {},
   "source": [
    "L'objectif de ce notebook est de tester les algos de réduction de dimensions"
   ]
  },
  {
   "cell_type": "code",
   "execution_count": 1,
   "id": "0503db75",
   "metadata": {},
   "outputs": [],
   "source": [
    "from sklearn.feature_selection import VarianceThreshold, SelectKBest, SelectFromModel, f_regression, mutual_info_regression, RFE, RFECV\n",
    "from sklearn.model_selection import train_test_split, KFold, GridSearchCV\n",
    "from sklearn.linear_model import LinearRegression, Lasso\n",
    "from sklearn.preprocessing import StandardScaler\n",
    "from sklearn.metrics import mean_squared_error \n",
    "\n",
    "import numpy as np\n",
    "import matplotlib.pyplot as plt\n",
    "import pandas as pd\n",
    "%matplotlib inline"
   ]
  },
  {
   "cell_type": "code",
   "execution_count": 2,
   "id": "17fce96c",
   "metadata": {},
   "outputs": [
    {
     "data": {
      "text/plain": [
       "Index(['Unnamed: 0', 'Date mutation', 'Valeur fonciere', 'Type de voie',\n",
       "       'Commune', 'Code departement', 'Nombre de lots', 'Type local',\n",
       "       'Surface reelle bati', 'Nombre pieces principales', 'Surface terrain',\n",
       "       'Code commune INSEE', 'Adresse', 'Prix m2', 'Paris', 'dep_name',\n",
       "       'region_name', 'Mer', 'lon', 'lat', 'Code postal 5 chiffres',\n",
       "       'code_iris_clean', 'Alimentation', 'Aéroport', 'Baignade', 'Banques',\n",
       "       'Boulangerie', 'Camping', 'Cinéma', 'Collège ou lycée', 'Crèche',\n",
       "       'Ecole mat et primaire', 'Ecole sup', 'Etab hospi', 'Gare',\n",
       "       'Gare nationale', 'Hotels', 'Info touristique',\n",
       "       'Parcours sportif/santé', 'Pharmacie', 'Police ou gendarmerie',\n",
       "       'Port plaisance', 'Restaurants', 'Resto U', 'Résidence U',\n",
       "       'Salle multisport', 'loy_appart', 'loy_maison', 'DISP_Q118',\n",
       "       'DISP_MED18', 'DISP_Q318', 'DISP_GI18', 'année', 'mois'],\n",
       "      dtype='object')"
      ]
     },
     "execution_count": 2,
     "metadata": {},
     "output_type": "execute_result"
    }
   ],
   "source": [
    "df = pd.read_csv('./Scripts Team/06 - dvf_with_equip_loyers_revenus_tridep_2020v2.csv')\n",
    "df.columns\n"
   ]
  },
  {
   "cell_type": "code",
   "execution_count": 3,
   "id": "1fd68e51",
   "metadata": {},
   "outputs": [
    {
     "data": {
      "text/plain": [
       "Index(['Valeur fonciere', 'Surface reelle bati', 'Nombre pieces principales',\n",
       "       'Paris', 'Mer', 'lon', 'lat', 'Alimentation', 'Aéroport', 'Baignade',\n",
       "       'Banques', 'Boulangerie', 'Camping', 'Cinéma', 'Collège ou lycée',\n",
       "       'Crèche', 'Ecole mat et primaire', 'Ecole sup', 'Etab hospi', 'Gare',\n",
       "       'Gare nationale', 'Hotels', 'Info touristique',\n",
       "       'Parcours sportif/santé', 'Pharmacie', 'Police ou gendarmerie',\n",
       "       'Port plaisance', 'Restaurants', 'Resto U', 'Résidence U',\n",
       "       'Salle multisport', 'loy_appart', 'loy_maison', 'DISP_Q118',\n",
       "       'DISP_MED18', 'DISP_Q318', 'DISP_GI18', 'mois'],\n",
       "      dtype='object')"
      ]
     },
     "execution_count": 3,
     "metadata": {},
     "output_type": "execute_result"
    }
   ],
   "source": [
    "# Suppression des colonnes inutiles\n",
    "\n",
    "df = df.drop(columns = {'Date mutation', 'Surface terrain', 'Unnamed: 0', 'Type de voie', 'Commune', 'Code departement', \n",
    "                        'Nombre de lots', 'Type local', 'Code commune INSEE', 'Adresse', 'dep_name', 'region_name',\n",
    "                        'Code postal 5 chiffres', 'code_iris_clean', 'année', 'Prix m2'})\n",
    "df.columns"
   ]
  },
  {
   "cell_type": "code",
   "execution_count": 4,
   "id": "692757c3",
   "metadata": {},
   "outputs": [
    {
     "data": {
      "text/html": [
       "<div>\n",
       "<style scoped>\n",
       "    .dataframe tbody tr th:only-of-type {\n",
       "        vertical-align: middle;\n",
       "    }\n",
       "\n",
       "    .dataframe tbody tr th {\n",
       "        vertical-align: top;\n",
       "    }\n",
       "\n",
       "    .dataframe thead th {\n",
       "        text-align: right;\n",
       "    }\n",
       "</style>\n",
       "<table border=\"1\" class=\"dataframe\">\n",
       "  <thead>\n",
       "    <tr style=\"text-align: right;\">\n",
       "      <th></th>\n",
       "      <th>Valeur fonciere</th>\n",
       "      <th>Surface reelle bati</th>\n",
       "      <th>Nombre pieces principales</th>\n",
       "      <th>Paris</th>\n",
       "      <th>Mer</th>\n",
       "      <th>lon</th>\n",
       "      <th>lat</th>\n",
       "      <th>Alimentation</th>\n",
       "      <th>Aéroport</th>\n",
       "      <th>Baignade</th>\n",
       "      <th>...</th>\n",
       "      <th>Resto U</th>\n",
       "      <th>Résidence U</th>\n",
       "      <th>Salle multisport</th>\n",
       "      <th>loy_appart</th>\n",
       "      <th>loy_maison</th>\n",
       "      <th>DISP_Q118</th>\n",
       "      <th>DISP_MED18</th>\n",
       "      <th>DISP_Q318</th>\n",
       "      <th>DISP_GI18</th>\n",
       "      <th>mois</th>\n",
       "    </tr>\n",
       "  </thead>\n",
       "  <tbody>\n",
       "    <tr>\n",
       "      <th>count</th>\n",
       "      <td>2.436220e+05</td>\n",
       "      <td>243622.000000</td>\n",
       "      <td>243622.000000</td>\n",
       "      <td>243622.000000</td>\n",
       "      <td>243622.00000</td>\n",
       "      <td>239350.000000</td>\n",
       "      <td>239350.000000</td>\n",
       "      <td>241967.000000</td>\n",
       "      <td>241967.000000</td>\n",
       "      <td>241967.000000</td>\n",
       "      <td>...</td>\n",
       "      <td>241967.000000</td>\n",
       "      <td>241967.000000</td>\n",
       "      <td>241967.000000</td>\n",
       "      <td>225294.000000</td>\n",
       "      <td>225294.000000</td>\n",
       "      <td>181297.000000</td>\n",
       "      <td>181297.000000</td>\n",
       "      <td>181297.000000</td>\n",
       "      <td>181297.000000</td>\n",
       "      <td>243622.000000</td>\n",
       "    </tr>\n",
       "    <tr>\n",
       "      <th>mean</th>\n",
       "      <td>2.840469e+05</td>\n",
       "      <td>73.303015</td>\n",
       "      <td>3.295946</td>\n",
       "      <td>0.073294</td>\n",
       "      <td>0.17450</td>\n",
       "      <td>2.286355</td>\n",
       "      <td>47.249134</td>\n",
       "      <td>2.888906</td>\n",
       "      <td>0.002509</td>\n",
       "      <td>0.055165</td>\n",
       "      <td>...</td>\n",
       "      <td>0.021726</td>\n",
       "      <td>0.037489</td>\n",
       "      <td>0.515066</td>\n",
       "      <td>15.397628</td>\n",
       "      <td>13.963385</td>\n",
       "      <td>17312.783278</td>\n",
       "      <td>24526.142683</td>\n",
       "      <td>33943.993502</td>\n",
       "      <td>0.296134</td>\n",
       "      <td>6.565524</td>\n",
       "    </tr>\n",
       "    <tr>\n",
       "      <th>std</th>\n",
       "      <td>2.059850e+05</td>\n",
       "      <td>35.988542</td>\n",
       "      <td>1.464583</td>\n",
       "      <td>0.260619</td>\n",
       "      <td>0.37954</td>\n",
       "      <td>2.492565</td>\n",
       "      <td>2.419091</td>\n",
       "      <td>3.542148</td>\n",
       "      <td>0.050023</td>\n",
       "      <td>0.380477</td>\n",
       "      <td>...</td>\n",
       "      <td>0.171356</td>\n",
       "      <td>0.265100</td>\n",
       "      <td>0.711691</td>\n",
       "      <td>5.530510</td>\n",
       "      <td>6.061973</td>\n",
       "      <td>3993.592659</td>\n",
       "      <td>6346.165040</td>\n",
       "      <td>10443.774381</td>\n",
       "      <td>0.060764</td>\n",
       "      <td>3.422833</td>\n",
       "    </tr>\n",
       "    <tr>\n",
       "      <th>min</th>\n",
       "      <td>4.268000e+04</td>\n",
       "      <td>10.000000</td>\n",
       "      <td>0.000000</td>\n",
       "      <td>0.000000</td>\n",
       "      <td>0.00000</td>\n",
       "      <td>-4.088110</td>\n",
       "      <td>-20.961634</td>\n",
       "      <td>0.000000</td>\n",
       "      <td>0.000000</td>\n",
       "      <td>0.000000</td>\n",
       "      <td>...</td>\n",
       "      <td>0.000000</td>\n",
       "      <td>0.000000</td>\n",
       "      <td>0.000000</td>\n",
       "      <td>6.178714</td>\n",
       "      <td>4.925651</td>\n",
       "      <td>5330.000000</td>\n",
       "      <td>8470.000000</td>\n",
       "      <td>13220.000000</td>\n",
       "      <td>0.180000</td>\n",
       "      <td>1.000000</td>\n",
       "    </tr>\n",
       "    <tr>\n",
       "      <th>25%</th>\n",
       "      <td>1.520000e+05</td>\n",
       "      <td>48.000000</td>\n",
       "      <td>2.000000</td>\n",
       "      <td>0.000000</td>\n",
       "      <td>0.00000</td>\n",
       "      <td>1.474910</td>\n",
       "      <td>44.841514</td>\n",
       "      <td>1.000000</td>\n",
       "      <td>0.000000</td>\n",
       "      <td>0.000000</td>\n",
       "      <td>...</td>\n",
       "      <td>0.000000</td>\n",
       "      <td>0.000000</td>\n",
       "      <td>0.000000</td>\n",
       "      <td>11.798332</td>\n",
       "      <td>10.217218</td>\n",
       "      <td>14240.000000</td>\n",
       "      <td>20100.000000</td>\n",
       "      <td>26960.000000</td>\n",
       "      <td>0.253000</td>\n",
       "      <td>4.000000</td>\n",
       "    </tr>\n",
       "    <tr>\n",
       "      <th>50%</th>\n",
       "      <td>2.288650e+05</td>\n",
       "      <td>68.000000</td>\n",
       "      <td>3.000000</td>\n",
       "      <td>0.000000</td>\n",
       "      <td>0.00000</td>\n",
       "      <td>2.352727</td>\n",
       "      <td>48.629165</td>\n",
       "      <td>2.000000</td>\n",
       "      <td>0.000000</td>\n",
       "      <td>0.000000</td>\n",
       "      <td>...</td>\n",
       "      <td>0.000000</td>\n",
       "      <td>0.000000</td>\n",
       "      <td>0.000000</td>\n",
       "      <td>13.857356</td>\n",
       "      <td>12.308170</td>\n",
       "      <td>17000.000000</td>\n",
       "      <td>23480.000000</td>\n",
       "      <td>31590.000000</td>\n",
       "      <td>0.286000</td>\n",
       "      <td>7.000000</td>\n",
       "    </tr>\n",
       "    <tr>\n",
       "      <th>75%</th>\n",
       "      <td>3.475000e+05</td>\n",
       "      <td>91.000000</td>\n",
       "      <td>4.000000</td>\n",
       "      <td>0.000000</td>\n",
       "      <td>0.00000</td>\n",
       "      <td>3.345865</td>\n",
       "      <td>48.884046</td>\n",
       "      <td>4.000000</td>\n",
       "      <td>0.000000</td>\n",
       "      <td>0.000000</td>\n",
       "      <td>...</td>\n",
       "      <td>0.000000</td>\n",
       "      <td>0.000000</td>\n",
       "      <td>1.000000</td>\n",
       "      <td>17.072199</td>\n",
       "      <td>15.128698</td>\n",
       "      <td>19790.000000</td>\n",
       "      <td>27900.000000</td>\n",
       "      <td>38230.000000</td>\n",
       "      <td>0.326000</td>\n",
       "      <td>10.000000</td>\n",
       "    </tr>\n",
       "    <tr>\n",
       "      <th>max</th>\n",
       "      <td>2.021400e+06</td>\n",
       "      <td>330.000000</td>\n",
       "      <td>109.000000</td>\n",
       "      <td>1.000000</td>\n",
       "      <td>1.00000</td>\n",
       "      <td>55.661947</td>\n",
       "      <td>51.082154</td>\n",
       "      <td>50.000000</td>\n",
       "      <td>1.000000</td>\n",
       "      <td>6.000000</td>\n",
       "      <td>...</td>\n",
       "      <td>4.000000</td>\n",
       "      <td>8.000000</td>\n",
       "      <td>4.000000</td>\n",
       "      <td>36.654438</td>\n",
       "      <td>35.581345</td>\n",
       "      <td>35210.000000</td>\n",
       "      <td>64670.000000</td>\n",
       "      <td>121540.000000</td>\n",
       "      <td>0.751000</td>\n",
       "      <td>12.000000</td>\n",
       "    </tr>\n",
       "  </tbody>\n",
       "</table>\n",
       "<p>8 rows × 38 columns</p>\n",
       "</div>"
      ],
      "text/plain": [
       "       Valeur fonciere  Surface reelle bati  Nombre pieces principales  \\\n",
       "count     2.436220e+05        243622.000000              243622.000000   \n",
       "mean      2.840469e+05            73.303015                   3.295946   \n",
       "std       2.059850e+05            35.988542                   1.464583   \n",
       "min       4.268000e+04            10.000000                   0.000000   \n",
       "25%       1.520000e+05            48.000000                   2.000000   \n",
       "50%       2.288650e+05            68.000000                   3.000000   \n",
       "75%       3.475000e+05            91.000000                   4.000000   \n",
       "max       2.021400e+06           330.000000                 109.000000   \n",
       "\n",
       "               Paris           Mer            lon            lat  \\\n",
       "count  243622.000000  243622.00000  239350.000000  239350.000000   \n",
       "mean        0.073294       0.17450       2.286355      47.249134   \n",
       "std         0.260619       0.37954       2.492565       2.419091   \n",
       "min         0.000000       0.00000      -4.088110     -20.961634   \n",
       "25%         0.000000       0.00000       1.474910      44.841514   \n",
       "50%         0.000000       0.00000       2.352727      48.629165   \n",
       "75%         0.000000       0.00000       3.345865      48.884046   \n",
       "max         1.000000       1.00000      55.661947      51.082154   \n",
       "\n",
       "        Alimentation       Aéroport       Baignade  ...        Resto U  \\\n",
       "count  241967.000000  241967.000000  241967.000000  ...  241967.000000   \n",
       "mean        2.888906       0.002509       0.055165  ...       0.021726   \n",
       "std         3.542148       0.050023       0.380477  ...       0.171356   \n",
       "min         0.000000       0.000000       0.000000  ...       0.000000   \n",
       "25%         1.000000       0.000000       0.000000  ...       0.000000   \n",
       "50%         2.000000       0.000000       0.000000  ...       0.000000   \n",
       "75%         4.000000       0.000000       0.000000  ...       0.000000   \n",
       "max        50.000000       1.000000       6.000000  ...       4.000000   \n",
       "\n",
       "         Résidence U  Salle multisport     loy_appart     loy_maison  \\\n",
       "count  241967.000000     241967.000000  225294.000000  225294.000000   \n",
       "mean        0.037489          0.515066      15.397628      13.963385   \n",
       "std         0.265100          0.711691       5.530510       6.061973   \n",
       "min         0.000000          0.000000       6.178714       4.925651   \n",
       "25%         0.000000          0.000000      11.798332      10.217218   \n",
       "50%         0.000000          0.000000      13.857356      12.308170   \n",
       "75%         0.000000          1.000000      17.072199      15.128698   \n",
       "max         8.000000          4.000000      36.654438      35.581345   \n",
       "\n",
       "           DISP_Q118     DISP_MED18      DISP_Q318      DISP_GI18  \\\n",
       "count  181297.000000  181297.000000  181297.000000  181297.000000   \n",
       "mean    17312.783278   24526.142683   33943.993502       0.296134   \n",
       "std      3993.592659    6346.165040   10443.774381       0.060764   \n",
       "min      5330.000000    8470.000000   13220.000000       0.180000   \n",
       "25%     14240.000000   20100.000000   26960.000000       0.253000   \n",
       "50%     17000.000000   23480.000000   31590.000000       0.286000   \n",
       "75%     19790.000000   27900.000000   38230.000000       0.326000   \n",
       "max     35210.000000   64670.000000  121540.000000       0.751000   \n",
       "\n",
       "                mois  \n",
       "count  243622.000000  \n",
       "mean        6.565524  \n",
       "std         3.422833  \n",
       "min         1.000000  \n",
       "25%         4.000000  \n",
       "50%         7.000000  \n",
       "75%        10.000000  \n",
       "max        12.000000  \n",
       "\n",
       "[8 rows x 38 columns]"
      ]
     },
     "execution_count": 4,
     "metadata": {},
     "output_type": "execute_result"
    }
   ],
   "source": [
    "df.describe()"
   ]
  },
  {
   "cell_type": "code",
   "execution_count": 5,
   "id": "377ae840",
   "metadata": {},
   "outputs": [
    {
     "data": {
      "text/plain": [
       "(243622, 38)"
      ]
     },
     "execution_count": 5,
     "metadata": {},
     "output_type": "execute_result"
    }
   ],
   "source": [
    "df.shape"
   ]
  },
  {
   "cell_type": "code",
   "execution_count": 6,
   "id": "18bc17f1",
   "metadata": {},
   "outputs": [
    {
     "data": {
      "text/plain": [
       "(161802, 38)"
      ]
     },
     "execution_count": 6,
     "metadata": {},
     "output_type": "execute_result"
    }
   ],
   "source": [
    "df = df.dropna()\n",
    "df.shape"
   ]
  },
  {
   "cell_type": "code",
   "execution_count": 7,
   "id": "bdd25536",
   "metadata": {},
   "outputs": [
    {
     "data": {
      "text/plain": [
       "(161802, 37)"
      ]
     },
     "execution_count": 7,
     "metadata": {},
     "output_type": "execute_result"
    }
   ],
   "source": [
    "target = df['Valeur fonciere']\n",
    "df = df.drop(columns = {'Valeur fonciere'})\n",
    "df.shape"
   ]
  },
  {
   "cell_type": "code",
   "execution_count": 8,
   "id": "8ca70c85",
   "metadata": {},
   "outputs": [],
   "source": [
    "X_train, X_test, y_train, y_test = train_test_split(df, target, test_size = 0.2, random_state = 1234)"
   ]
  },
  {
   "cell_type": "markdown",
   "id": "c932a110",
   "metadata": {},
   "source": [
    "## Score régression avant réduction de dimensions"
   ]
  },
  {
   "cell_type": "code",
   "execution_count": 9,
   "id": "6d8087ae",
   "metadata": {},
   "outputs": [
    {
     "name": "stdout",
     "output_type": "stream",
     "text": [
      "Coefficient de détermination du modèle : 0.6902128937512857\n",
      "Score sur le jeu de test : 0.6965370091707497\n",
      "rmse train : 126142.65966152467\n",
      "rmse test : 125763.08725688717\n"
     ]
    }
   ],
   "source": [
    "lr = LinearRegression()\n",
    "lr.fit(X_train, y_train)\n",
    "\n",
    "# Score R2 du modèle d'apprentissage\n",
    "print('Coefficient de détermination du modèle :', lr.score(X_train, y_train))\n",
    "\n",
    "# Score R2 sur le jeu de test\n",
    "print('Score sur le jeu de test :', lr.score(X_test, y_test))\n",
    "\n",
    "lr_pred_train = lr.predict(X_train) \n",
    "lr_pred_test = lr.predict(X_test) \n",
    "print('rmse train :', mean_squared_error(lr_pred_train, y_train, squared=False)) \n",
    "print('rmse test :', mean_squared_error(lr_pred_test, y_test, squared=False))\n"
   ]
  },
  {
   "cell_type": "code",
   "execution_count": 10,
   "id": "58256ddc",
   "metadata": {},
   "outputs": [],
   "source": [
    "X_train_save = X_train\n",
    "X_test_save = X_test"
   ]
  },
  {
   "cell_type": "code",
   "execution_count": 11,
   "id": "50627b1a",
   "metadata": {},
   "outputs": [],
   "source": [
    "scaler = StandardScaler()\n",
    "X_train = scaler.fit_transform(X_train)\n",
    "X_test = scaler.transform(X_test)"
   ]
  },
  {
   "cell_type": "code",
   "execution_count": 12,
   "id": "551b2217",
   "metadata": {},
   "outputs": [
    {
     "name": "stdout",
     "output_type": "stream",
     "text": [
      "Coefficient de détermination du modèle : 0.6902128937512857\n",
      "Score sur le jeu de test : 0.6965370091707479\n",
      "rmse train : 126142.65966152465\n",
      "rmse test : 125763.08725688753\n"
     ]
    }
   ],
   "source": [
    "lr = LinearRegression()\n",
    "lr.fit(X_train, y_train)\n",
    "\n",
    "# Score R2 du modèle d'apprentissage\n",
    "print('Coefficient de détermination du modèle :', lr.score(X_train, y_train))\n",
    "\n",
    "# Score R2 sur le jeu de test\n",
    "print('Score sur le jeu de test :', lr.score(X_test, y_test))\n",
    "\n",
    "lr_pred_train = lr.predict(X_train) \n",
    "lr_pred_test = lr.predict(X_test) \n",
    "print('rmse train :', mean_squared_error(lr_pred_train, y_train, squared=False)) \n",
    "print('rmse test :', mean_squared_error(lr_pred_test, y_test, squared=False))"
   ]
  },
  {
   "cell_type": "code",
   "execution_count": 13,
   "id": "33f62adf",
   "metadata": {},
   "outputs": [
    {
     "data": {
      "text/plain": [
       "Index(['Surface reelle bati', 'Nombre pieces principales', 'Paris', 'Mer',\n",
       "       'lon', 'lat', 'Alimentation', 'Aéroport', 'Baignade', 'Banques',\n",
       "       'Boulangerie', 'Camping', 'Cinéma', 'Collège ou lycée', 'Crèche',\n",
       "       'Ecole mat et primaire', 'Ecole sup', 'Etab hospi', 'Gare',\n",
       "       'Gare nationale', 'Hotels', 'Info touristique',\n",
       "       'Parcours sportif/santé', 'Pharmacie', 'Police ou gendarmerie',\n",
       "       'Port plaisance', 'Restaurants', 'Resto U', 'Résidence U',\n",
       "       'Salle multisport', 'loy_appart', 'loy_maison', 'DISP_Q118',\n",
       "       'DISP_MED18', 'DISP_Q318', 'DISP_GI18', 'mois'],\n",
       "      dtype='object')"
      ]
     },
     "execution_count": 13,
     "metadata": {},
     "output_type": "execute_result"
    }
   ],
   "source": [
    "df.columns"
   ]
  },
  {
   "cell_type": "code",
   "execution_count": null,
   "id": "7bdb4d51",
   "metadata": {},
   "outputs": [],
   "source": []
  },
  {
   "cell_type": "markdown",
   "id": "fb98da37",
   "metadata": {},
   "source": [
    "## Test SelectKBest"
   ]
  },
  {
   "cell_type": "code",
   "execution_count": 14,
   "id": "6bbb66d8",
   "metadata": {},
   "outputs": [
    {
     "data": {
      "image/png": "[encoded data removed]",
      "text/plain": [
       "<Figure size 1152x144 with 1 Axes>"
      ]
     },
     "metadata": {
      "needs_background": "light"
     },
     "output_type": "display_data"
    }
   ],
   "source": [
    "sel = SelectKBest(score_func = f_regression, k = 15)\n",
    "sel.fit(X_train, y_train)\n",
    "\n",
    "mask = sel.get_support()\n",
    "plt.matshow(mask.reshape(1,-1), cmap = 'gray_r')\n",
    "plt.xlabel('Feature selection');"
   ]
  },
  {
   "cell_type": "code",
   "execution_count": 15,
   "id": "5980ff24",
   "metadata": {},
   "outputs": [
    {
     "name": "stdout",
     "output_type": "stream",
     "text": [
      "Coefficient de détermination du modèle : 0.6833062708721372\n",
      "Score sur le jeu de test : 0.6892154851910466\n",
      "rmse train : 127541.06722128952\n",
      "rmse test : 127271.16186195995\n"
     ]
    }
   ],
   "source": [
    "X_train_sel = sel.fit_transform(X_train, y_train)\n",
    "X_test_sel = sel.transform(X_test)\n",
    "\n",
    "lr = LinearRegression()\n",
    "lr.fit(X_train_sel, y_train)\n",
    "\n",
    "# Score R2 du modèle d'apprentissage\n",
    "print('Coefficient de détermination du modèle :', lr.score(X_train_sel, y_train))\n",
    "\n",
    "# Score R2 sur le jeu de test\n",
    "print('Score sur le jeu de test :', lr.score(X_test_sel, y_test))\n",
    "\n",
    "lr_pred_train = lr.predict(X_train_sel) \n",
    "lr_pred_test = lr.predict(X_test_sel) \n",
    "print('rmse train :', mean_squared_error(lr_pred_train, y_train, squared=False)) \n",
    "print('rmse test :', mean_squared_error(lr_pred_test, y_test, squared=False))"
   ]
  },
  {
   "cell_type": "markdown",
   "id": "0aaeb63b",
   "metadata": {},
   "source": [
    "## Test RFE"
   ]
  },
  {
   "cell_type": "code",
   "execution_count": 16,
   "id": "dac0af6c",
   "metadata": {},
   "outputs": [
    {
     "data": {
      "image/png": "[encoded data removed]",
      "text/plain": [
       "<Figure size 1152x144 with 1 Axes>"
      ]
     },
     "metadata": {
      "needs_background": "light"
     },
     "output_type": "display_data"
    }
   ],
   "source": [
    "# Instanciation de l'algo RFE (Recursive Feature Elimination)\n",
    "lm = LinearRegression()\n",
    "rfe = RFE(estimator = lm, step = 1, n_features_to_select = 10)\n",
    "rfe.fit(X_train, y_train)\n",
    "\n",
    "# Identification des features conservées\n",
    "mask = rfe.get_support()\n",
    "\n",
    "#matshow permet d'afficher un array numpy sous la forme d'une matrice\n",
    "plt.matshow(mask.reshape(1,-1), cmap = 'gray_r')\n",
    "plt.xlabel('Feature selection');"
   ]
  },
  {
   "cell_type": "code",
   "execution_count": 17,
   "id": "eb0108d4",
   "metadata": {},
   "outputs": [
    {
     "name": "stdout",
     "output_type": "stream",
     "text": [
      "Coefficient de détermination du modèle : 0.6884863362991308\n",
      "Score sur le jeu de test : 0.6944711486294024\n",
      "rmse train : 126493.69094705599\n",
      "rmse test : 126190.43480148767\n"
     ]
    }
   ],
   "source": [
    "X_train_rfe = rfe.fit_transform(X_train, y_train)\n",
    "X_test_rfe = rfe.transform(X_test)\n",
    "\n",
    "lr = LinearRegression()\n",
    "lr.fit(X_train_rfe, y_train)\n",
    "\n",
    "# Score R2 du modèle d'apprentissage\n",
    "print('Coefficient de détermination du modèle :', lr.score(X_train_rfe, y_train))\n",
    "\n",
    "# Score R2 sur le jeu de test\n",
    "print('Score sur le jeu de test :', lr.score(X_test_rfe, y_test))\n",
    "\n",
    "lr_pred_train = lr.predict(X_train_rfe) \n",
    "lr_pred_test = lr.predict(X_test_rfe) \n",
    "print('rmse train :', mean_squared_error(lr_pred_train, y_train, squared=False)) \n",
    "print('rmse test :', mean_squared_error(lr_pred_test, y_test, squared=False))"
   ]
  },
  {
   "cell_type": "code",
   "execution_count": 18,
   "id": "57033418",
   "metadata": {},
   "outputs": [
    {
     "data": {
      "image/png": "[encoded data removed]",
      "text/plain": [
       "<Figure size 1152x144 with 1 Axes>"
      ]
     },
     "metadata": {
      "needs_background": "light"
     },
     "output_type": "display_data"
    }
   ],
   "source": [
    "features_eliminated = rfe.ranking_\n",
    "features_eliminated\n",
    "\n",
    "#matshow permet d'afficher un array numpy sous la forme d'une matrice\n",
    "plt.matshow(features_eliminated.reshape(1,-1), cmap = 'gray_r')\n",
    "plt.xlabel('Feature selection');"
   ]
  },
  {
   "cell_type": "markdown",
   "id": "d4c65298",
   "metadata": {},
   "source": [
    "## Test RFE Cross Validation"
   ]
  },
  {
   "cell_type": "code",
   "execution_count": 19,
   "id": "a43fdad2",
   "metadata": {},
   "outputs": [
    {
     "data": {
      "image/png": "[encoded data removed]",
      "text/plain": [
       "<Figure size 1152x144 with 1 Axes>"
      ]
     },
     "metadata": {
      "needs_background": "light"
     },
     "output_type": "display_data"
    }
   ],
   "source": [
    "crossval = KFold(n_splits = 5, random_state = 2, shuffle = True)\n",
    "\n",
    "rfecv = RFECV(estimator = lm, cv = crossval, step = 1)\n",
    "rfecv.fit(X_train, y_train)\n",
    "\n",
    "mask = rfecv.get_support()\n",
    "plt.matshow(mask.reshape(1,-1), cmap = 'gray_r')\n",
    "plt.xlabel('Axe des features');\n",
    "plt.show();"
   ]
  },
  {
   "cell_type": "code",
   "execution_count": 20,
   "id": "2d3774aa",
   "metadata": {},
   "outputs": [
    {
     "name": "stdout",
     "output_type": "stream",
     "text": [
      "Nombre de features retenus : 36\n"
     ]
    },
    {
     "data": {
      "image/png": "[encoded data removed]",
      "text/plain": [
       "<Figure size 432x288 with 1 Axes>"
      ]
     },
     "metadata": {
      "needs_background": "light"
     },
     "output_type": "display_data"
    }
   ],
   "source": [
    "plt.plot(rfecv.grid_scores_);\n",
    "print(\"Nombre de features retenus :\", rfecv.n_features_)"
   ]
  },
  {
   "cell_type": "markdown",
   "id": "9747be1d",
   "metadata": {},
   "source": [
    "## Test Régression Lasso"
   ]
  },
  {
   "cell_type": "code",
   "execution_count": 21,
   "id": "62e69f46",
   "metadata": {},
   "outputs": [
    {
     "data": {
      "text/plain": [
       "array([ 1.36443911e+05,  4.05745261e+03,  3.72251971e+03,  3.06558629e+03,\n",
       "       -1.88772234e+04, -1.83635216e+04,  3.15551242e+03, -3.08787805e+02,\n",
       "        3.31345870e+03, -5.98752325e+02,  2.26675855e+03, -5.38146769e+02,\n",
       "        3.85120272e+02, -1.74414263e+03,  3.07060441e+03, -3.04545626e+03,\n",
       "       -1.13862546e+03, -1.36168174e+03, -1.05464747e+03,  5.63394285e+01,\n",
       "        6.01978671e+03,  1.41745934e+03, -4.19466616e+03, -1.74570218e+03,\n",
       "       -8.24210900e+02, -5.83058886e+02, -1.98785942e+03,  1.65896567e+03,\n",
       "        8.73724222e+02,  1.07031747e+03,  8.43584036e+04,  2.70530122e+04,\n",
       "       -1.13103639e+04,  8.10040909e+03,  4.77517596e+04,  1.31238233e+04,\n",
       "        4.11788701e+03])"
      ]
     },
     "execution_count": 21,
     "metadata": {},
     "output_type": "execute_result"
    }
   ],
   "source": [
    "from sklearn.linear_model import Lasso \n",
    "lasso_r = Lasso(alpha = 0.8) \n",
    "lasso_r.fit(X_train, y_train)\n",
    "\n",
    "# Afficher les coefficients estimés par le modèle\n",
    "lasso_r.coef_"
   ]
  },
  {
   "cell_type": "code",
   "execution_count": 22,
   "id": "a520297f",
   "metadata": {},
   "outputs": [
    {
     "data": {
      "image/png": "[encoded data removed]",
      "text/plain": [
       "<Figure size 1440x720 with 1 Axes>"
      ]
     },
     "metadata": {
      "needs_background": "light"
     },
     "output_type": "display_data"
    }
   ],
   "source": [
    "# Afficher un graphique représentant la valeur estimée du coefficient pour chaque variable de data\n",
    "plt.figure(figsize = (20, 10))\n",
    "\n",
    "lasso_coef = lasso_r.coef_ \n",
    "plt.plot(range(len(df.columns)), lasso_coef) \n",
    "plt.xticks(range(len(df.columns)), df.columns.values, rotation=70);"
   ]
  },
  {
   "cell_type": "code",
   "execution_count": 23,
   "id": "e59f0c9f",
   "metadata": {},
   "outputs": [
    {
     "name": "stdout",
     "output_type": "stream",
     "text": [
      "0.690212892440119\n",
      "0.6965365319242235\n",
      "rmse train : 126142.6599284726\n",
      "rmse test : 125763.18614863793\n"
     ]
    }
   ],
   "source": [
    "# Afficher le score (R2) du modèle sur l'ensemble d'apprentissage et l'ensemble de test\n",
    "print(lasso_r.score(X_train, y_train)) \n",
    "print(lasso_r.score(X_test, y_test))\n",
    "\n",
    "lasso_pred_train = lasso_r.predict(X_train) \n",
    "lasso_pred_test = lasso_r.predict(X_test) \n",
    "print('rmse train :', mean_squared_error(lasso_pred_train, y_train, squared=False)) \n",
    "print('rmse test :', mean_squared_error(lasso_pred_test, y_test, squared=False))"
   ]
  },
  {
   "cell_type": "markdown",
   "id": "fc6b6fa3",
   "metadata": {},
   "source": [
    "## Test Régression RandomForest"
   ]
  },
  {
   "cell_type": "code",
   "execution_count": 24,
   "id": "7fdcce23",
   "metadata": {},
   "outputs": [
    {
     "name": "stdout",
     "output_type": "stream",
     "text": [
      "score train: 0.979410370964823\n",
      "score test: 0.858054174381311\n",
      "RMSE test :  86012.51284035777\n",
      "rmse test : 86012.51284035777\n"
     ]
    }
   ],
   "source": [
    "from sklearn.ensemble import RandomForestRegressor\n",
    "regr = RandomForestRegressor(random_state=0)\n",
    "regr.fit(X_train,y_train)\n",
    "\n",
    "print(\"score train:\",regr.score(X_train, y_train))\n",
    "print(\"score test:\", regr.score(X_test, y_test))\n",
    "\n",
    "pred_rf = regr.predict(X_test)\n",
    "print(\"RMSE test : \", np.sqrt(mean_squared_error(pred_rf,y_test)))\n",
    "print('rmse test :', mean_squared_error(pred_rf, y_test, squared=False))"
   ]
  },
  {
   "cell_type": "code",
   "execution_count": null,
   "id": "acceff6a",
   "metadata": {},
   "outputs": [],
   "source": []
  }
 ],
 "metadata": {
  "kernelspec": {
   "display_name": "Python 3",
   "language": "python",
   "name": "python3"
  },
  "language_info": {
   "codemirror_mode": {
    "name": "ipython",
    "version": 3
   },
   "file_extension": ".py",
   "mimetype": "text/x-python",
   "name": "python",
   "nbconvert_exporter": "python",
   "pygments_lexer": "ipython3",
   "version": "3.8.10"
  }
 },
 "nbformat": 4,
 "nbformat_minor": 5
}
