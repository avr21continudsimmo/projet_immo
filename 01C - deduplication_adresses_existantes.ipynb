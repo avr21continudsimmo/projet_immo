{
 "cells": [
  {
   "cell_type": "code",
   "execution_count": 1,
   "id": "5c707c47",
   "metadata": {},
   "outputs": [],
   "source": [
    "import pandas as pd"
   ]
  },
  {
   "cell_type": "code",
   "execution_count": 2,
   "id": "eae4b3eb",
   "metadata": {},
   "outputs": [],
   "source": [
    "year = '2019'\n",
    "\n",
    "# fichier à partir duquel dédupliquer\n",
    "file_dedup = '01A - export_dvf_adresses_2020.csv'"
   ]
  },
  {
   "cell_type": "code",
   "execution_count": 3,
   "id": "b3c8a10a",
   "metadata": {},
   "outputs": [
    {
     "data": {
      "text/plain": [
       "(1415467, 10)"
      ]
     },
     "execution_count": 3,
     "metadata": {},
     "output_type": "execute_result"
    }
   ],
   "source": [
    "df = pd.read_csv('01A - export_dvf_adresses_' + year + '.csv', sep=\",\",\n",
    "                dtype = {'Code postal': str, 'Code departement': str, 'Code commune INSEE': str})\n",
    "df.shape"
   ]
  },
  {
   "cell_type": "code",
   "execution_count": 4,
   "id": "309723f0",
   "metadata": {},
   "outputs": [
    {
     "data": {
      "text/plain": [
       "(1059387, 2)"
      ]
     },
     "execution_count": 4,
     "metadata": {},
     "output_type": "execute_result"
    }
   ],
   "source": [
    "df_ref = pd.read_csv(file_dedup, sep=\",\",\n",
    "                dtype = {'Code postal': str, 'Code departement': str, 'Code commune INSEE': str})\n",
    "df_ref = df_ref[['Ville', 'Adresse']]\n",
    "df_ref.shape"
   ]
  },
  {
   "cell_type": "code",
   "execution_count": 5,
   "id": "a31cea75",
   "metadata": {},
   "outputs": [
    {
     "data": {
      "text/html": [
       "<div>\n",
       "<style scoped>\n",
       "    .dataframe tbody tr th:only-of-type {\n",
       "        vertical-align: middle;\n",
       "    }\n",
       "\n",
       "    .dataframe tbody tr th {\n",
       "        vertical-align: top;\n",
       "    }\n",
       "\n",
       "    .dataframe thead th {\n",
       "        text-align: right;\n",
       "    }\n",
       "</style>\n",
       "<table border=\"1\" class=\"dataframe\">\n",
       "  <thead>\n",
       "    <tr style=\"text-align: right;\">\n",
       "      <th></th>\n",
       "      <th>Unnamed: 0</th>\n",
       "      <th>No voie</th>\n",
       "      <th>Type de voie</th>\n",
       "      <th>Voie</th>\n",
       "      <th>Code postal</th>\n",
       "      <th>Commune</th>\n",
       "      <th>Code departement</th>\n",
       "      <th>Code commune INSEE</th>\n",
       "      <th>Ville_x</th>\n",
       "      <th>Adresse</th>\n",
       "      <th>Ville_y</th>\n",
       "    </tr>\n",
       "  </thead>\n",
       "  <tbody>\n",
       "    <tr>\n",
       "      <th>0</th>\n",
       "      <td>0</td>\n",
       "      <td>26.0</td>\n",
       "      <td>RUE</td>\n",
       "      <td>DE MONTHOLON</td>\n",
       "      <td>1000</td>\n",
       "      <td>BOURG-EN-BRESSE</td>\n",
       "      <td>01</td>\n",
       "      <td>01053</td>\n",
       "      <td>1000 BOURG EN BRESSE</td>\n",
       "      <td>26 RUE DE MONTHOLON 1000 BOURG-EN-BRESSE</td>\n",
       "      <td>1000 BOURG EN BRESSE</td>\n",
       "    </tr>\n",
       "    <tr>\n",
       "      <th>1</th>\n",
       "      <td>1</td>\n",
       "      <td>22.0</td>\n",
       "      <td>RUE</td>\n",
       "      <td>GEN DELESTRAINT</td>\n",
       "      <td>1000</td>\n",
       "      <td>BOURG-EN-BRESSE</td>\n",
       "      <td>01</td>\n",
       "      <td>01053</td>\n",
       "      <td>1000 BOURG EN BRESSE</td>\n",
       "      <td>22 RUE GEN DELESTRAINT 1000 BOURG-EN-BRESSE</td>\n",
       "      <td>1000 BOURG EN BRESSE</td>\n",
       "    </tr>\n",
       "    <tr>\n",
       "      <th>2</th>\n",
       "      <td>3</td>\n",
       "      <td>3.0</td>\n",
       "      <td>RUE</td>\n",
       "      <td>DES CHAMPAGNES</td>\n",
       "      <td>1160</td>\n",
       "      <td>PRIAY</td>\n",
       "      <td>01</td>\n",
       "      <td>01314</td>\n",
       "      <td>1160 PRIAY</td>\n",
       "      <td>3 RUE DES CHAMPAGNES 1160 PRIAY</td>\n",
       "      <td>NaN</td>\n",
       "    </tr>\n",
       "    <tr>\n",
       "      <th>3</th>\n",
       "      <td>4</td>\n",
       "      <td>5.0</td>\n",
       "      <td>LOT</td>\n",
       "      <td>LE BIOLAY</td>\n",
       "      <td>1370</td>\n",
       "      <td>SAINT-ETIENNE-DU-BOIS</td>\n",
       "      <td>01</td>\n",
       "      <td>01350</td>\n",
       "      <td>1370 SAINT ETIENNE DU BOIS</td>\n",
       "      <td>5 LOT LE BIOLAY 1370 SAINT-ETIENNE-DU-BOIS</td>\n",
       "      <td>NaN</td>\n",
       "    </tr>\n",
       "    <tr>\n",
       "      <th>4</th>\n",
       "      <td>5</td>\n",
       "      <td>165.0</td>\n",
       "      <td>ALL</td>\n",
       "      <td>DES LIBELLULES</td>\n",
       "      <td>1340</td>\n",
       "      <td>ATTIGNAT</td>\n",
       "      <td>01</td>\n",
       "      <td>01024</td>\n",
       "      <td>1340 ATTIGNAT</td>\n",
       "      <td>165 ALL DES LIBELLULES 1340 ATTIGNAT</td>\n",
       "      <td>NaN</td>\n",
       "    </tr>\n",
       "  </tbody>\n",
       "</table>\n",
       "</div>"
      ],
      "text/plain": [
       "   Unnamed: 0  No voie Type de voie             Voie Code postal  \\\n",
       "0           0     26.0          RUE     DE MONTHOLON        1000   \n",
       "1           1     22.0          RUE  GEN DELESTRAINT        1000   \n",
       "2           3      3.0          RUE   DES CHAMPAGNES        1160   \n",
       "3           4      5.0          LOT        LE BIOLAY        1370   \n",
       "4           5    165.0          ALL   DES LIBELLULES        1340   \n",
       "\n",
       "                 Commune Code departement Code commune INSEE  \\\n",
       "0        BOURG-EN-BRESSE               01              01053   \n",
       "1        BOURG-EN-BRESSE               01              01053   \n",
       "2                  PRIAY               01              01314   \n",
       "3  SAINT-ETIENNE-DU-BOIS               01              01350   \n",
       "4               ATTIGNAT               01              01024   \n",
       "\n",
       "                      Ville_x                                      Adresse  \\\n",
       "0        1000 BOURG EN BRESSE     26 RUE DE MONTHOLON 1000 BOURG-EN-BRESSE   \n",
       "1        1000 BOURG EN BRESSE  22 RUE GEN DELESTRAINT 1000 BOURG-EN-BRESSE   \n",
       "2                  1160 PRIAY              3 RUE DES CHAMPAGNES 1160 PRIAY   \n",
       "3  1370 SAINT ETIENNE DU BOIS   5 LOT LE BIOLAY 1370 SAINT-ETIENNE-DU-BOIS   \n",
       "4               1340 ATTIGNAT         165 ALL DES LIBELLULES 1340 ATTIGNAT   \n",
       "\n",
       "                Ville_y  \n",
       "0  1000 BOURG EN BRESSE  \n",
       "1  1000 BOURG EN BRESSE  \n",
       "2                   NaN  \n",
       "3                   NaN  \n",
       "4                   NaN  "
      ]
     },
     "execution_count": 5,
     "metadata": {},
     "output_type": "execute_result"
    }
   ],
   "source": [
    "df_dedup = df.merge(df_ref, on = \"Adresse\", how = \"left\")\n",
    "df_dedup.head()"
   ]
  },
  {
   "cell_type": "code",
   "execution_count": 8,
   "id": "c631e884",
   "metadata": {},
   "outputs": [
    {
     "data": {
      "text/plain": [
       "(1172843, 10)"
      ]
     },
     "execution_count": 8,
     "metadata": {},
     "output_type": "execute_result"
    }
   ],
   "source": [
    "df_dedup = df_dedup[df_dedup['Ville_y'].isna()]\n",
    "df_dedup = df_dedup.drop(columns = {'Ville_y'})\n",
    "df_dedup = df_dedup.rename(columns = {'Ville_x': 'Ville'})\n",
    "df_dedup.shape"
   ]
  },
  {
   "cell_type": "code",
   "execution_count": 9,
   "id": "11aaded5",
   "metadata": {},
   "outputs": [
    {
     "data": {
      "text/html": [
       "<div>\n",
       "<style scoped>\n",
       "    .dataframe tbody tr th:only-of-type {\n",
       "        vertical-align: middle;\n",
       "    }\n",
       "\n",
       "    .dataframe tbody tr th {\n",
       "        vertical-align: top;\n",
       "    }\n",
       "\n",
       "    .dataframe thead th {\n",
       "        text-align: right;\n",
       "    }\n",
       "</style>\n",
       "<table border=\"1\" class=\"dataframe\">\n",
       "  <thead>\n",
       "    <tr style=\"text-align: right;\">\n",
       "      <th></th>\n",
       "      <th>Unnamed: 0</th>\n",
       "      <th>No voie</th>\n",
       "      <th>Type de voie</th>\n",
       "      <th>Voie</th>\n",
       "      <th>Code postal</th>\n",
       "      <th>Commune</th>\n",
       "      <th>Code departement</th>\n",
       "      <th>Code commune INSEE</th>\n",
       "      <th>Ville</th>\n",
       "      <th>Adresse</th>\n",
       "    </tr>\n",
       "  </thead>\n",
       "  <tbody>\n",
       "    <tr>\n",
       "      <th>2</th>\n",
       "      <td>3</td>\n",
       "      <td>3.0</td>\n",
       "      <td>RUE</td>\n",
       "      <td>DES CHAMPAGNES</td>\n",
       "      <td>1160</td>\n",
       "      <td>PRIAY</td>\n",
       "      <td>01</td>\n",
       "      <td>01314</td>\n",
       "      <td>1160 PRIAY</td>\n",
       "      <td>3 RUE DES CHAMPAGNES 1160 PRIAY</td>\n",
       "    </tr>\n",
       "    <tr>\n",
       "      <th>3</th>\n",
       "      <td>4</td>\n",
       "      <td>5.0</td>\n",
       "      <td>LOT</td>\n",
       "      <td>LE BIOLAY</td>\n",
       "      <td>1370</td>\n",
       "      <td>SAINT-ETIENNE-DU-BOIS</td>\n",
       "      <td>01</td>\n",
       "      <td>01350</td>\n",
       "      <td>1370 SAINT ETIENNE DU BOIS</td>\n",
       "      <td>5 LOT LE BIOLAY 1370 SAINT-ETIENNE-DU-BOIS</td>\n",
       "    </tr>\n",
       "    <tr>\n",
       "      <th>4</th>\n",
       "      <td>5</td>\n",
       "      <td>165.0</td>\n",
       "      <td>ALL</td>\n",
       "      <td>DES LIBELLULES</td>\n",
       "      <td>1340</td>\n",
       "      <td>ATTIGNAT</td>\n",
       "      <td>01</td>\n",
       "      <td>01024</td>\n",
       "      <td>1340 ATTIGNAT</td>\n",
       "      <td>165 ALL DES LIBELLULES 1340 ATTIGNAT</td>\n",
       "    </tr>\n",
       "    <tr>\n",
       "      <th>5</th>\n",
       "      <td>6</td>\n",
       "      <td>9.0</td>\n",
       "      <td>RTE</td>\n",
       "      <td>DU VIADUC</td>\n",
       "      <td>1250</td>\n",
       "      <td>CIZE</td>\n",
       "      <td>01</td>\n",
       "      <td>01106</td>\n",
       "      <td>1250 CIZE</td>\n",
       "      <td>9 RTE DU VIADUC 1250 CIZE</td>\n",
       "    </tr>\n",
       "    <tr>\n",
       "      <th>6</th>\n",
       "      <td>7</td>\n",
       "      <td>NaN</td>\n",
       "      <td>NaN</td>\n",
       "      <td>SUR LA LATIE</td>\n",
       "      <td>1250</td>\n",
       "      <td>CIZE</td>\n",
       "      <td>01</td>\n",
       "      <td>01106</td>\n",
       "      <td>1250 CIZE</td>\n",
       "      <td>SUR LA LATIE 1250 CIZE</td>\n",
       "    </tr>\n",
       "  </tbody>\n",
       "</table>\n",
       "</div>"
      ],
      "text/plain": [
       "   Unnamed: 0  No voie Type de voie            Voie Code postal  \\\n",
       "2           3      3.0          RUE  DES CHAMPAGNES        1160   \n",
       "3           4      5.0          LOT       LE BIOLAY        1370   \n",
       "4           5    165.0          ALL  DES LIBELLULES        1340   \n",
       "5           6      9.0          RTE       DU VIADUC        1250   \n",
       "6           7      NaN          NaN    SUR LA LATIE        1250   \n",
       "\n",
       "                 Commune Code departement Code commune INSEE  \\\n",
       "2                  PRIAY               01              01314   \n",
       "3  SAINT-ETIENNE-DU-BOIS               01              01350   \n",
       "4               ATTIGNAT               01              01024   \n",
       "5                   CIZE               01              01106   \n",
       "6                   CIZE               01              01106   \n",
       "\n",
       "                        Ville                                     Adresse  \n",
       "2                  1160 PRIAY             3 RUE DES CHAMPAGNES 1160 PRIAY  \n",
       "3  1370 SAINT ETIENNE DU BOIS  5 LOT LE BIOLAY 1370 SAINT-ETIENNE-DU-BOIS  \n",
       "4               1340 ATTIGNAT        165 ALL DES LIBELLULES 1340 ATTIGNAT  \n",
       "5                   1250 CIZE                   9 RTE DU VIADUC 1250 CIZE  \n",
       "6                   1250 CIZE                      SUR LA LATIE 1250 CIZE  "
      ]
     },
     "execution_count": 9,
     "metadata": {},
     "output_type": "execute_result"
    }
   ],
   "source": [
    "df_dedup.head()"
   ]
  },
  {
   "cell_type": "code",
   "execution_count": 11,
   "id": "3b1b2ede",
   "metadata": {},
   "outputs": [],
   "source": [
    "df_dedup.to_csv('01A - export_dvf_adresses_' + year + '.csv')"
   ]
  },
  {
   "cell_type": "code",
   "execution_count": null,
   "id": "ce59eff3",
   "metadata": {},
   "outputs": [],
   "source": []
  }
 ],
 "metadata": {
  "kernelspec": {
   "display_name": "Python 3",
   "language": "python",
   "name": "python3"
  },
  "language_info": {
   "codemirror_mode": {
    "name": "ipython",
    "version": 3
   },
   "file_extension": ".py",
   "mimetype": "text/x-python",
   "name": "python",
   "nbconvert_exporter": "python",
   "pygments_lexer": "ipython3",
   "version": "3.8.10"
  }
 },
 "nbformat": 4,
 "nbformat_minor": 5
}
