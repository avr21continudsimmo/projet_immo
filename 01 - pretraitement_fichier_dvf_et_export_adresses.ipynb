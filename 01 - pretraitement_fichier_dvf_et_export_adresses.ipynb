{
 "cells": [
  {
   "cell_type": "markdown",
   "metadata": {},
   "source": [
    "# Constitution d'une base adresse à partir de fichiers DVF\n",
    "- Adresse complète\n",
    "- Code commune INSEE\n",
    "- Code IRIS (code quartier de l'INSEE)\n",
    "- Coordonnées GPS de la commune\n",
    "- Coorodnnées GPS de l'adresse"
   ]
  },
  {
   "cell_type": "markdown",
   "metadata": {},
   "source": [
    "## Lecture du fichier DVF"
   ]
  },
  {
   "cell_type": "code",
   "execution_count": 1,
   "metadata": {},
   "outputs": [],
   "source": [
    "import warnings\n",
    "from pandas.core.common import SettingWithCopyWarning\n",
    "warnings.simplefilter(action=\"ignore\", category=SettingWithCopyWarning)"
   ]
  },
  {
   "cell_type": "code",
   "execution_count": 2,
   "metadata": {},
   "outputs": [],
   "source": [
    "import pandas as pd\n",
    "import numpy as np\n",
    "from geopy.geocoders import Nominatim\n",
    "import json\n",
    "import requests\n",
    "import time"
   ]
  },
  {
   "cell_type": "code",
   "execution_count": 3,
   "metadata": {},
   "outputs": [],
   "source": [
    "# Fichier(s) à traiter\n",
    "year = '2020'\n",
    "filename = 'databases/valeursfoncieres-' + year + '.txt'"
   ]
  },
  {
   "cell_type": "code",
   "execution_count": 4,
   "metadata": {
    "scrolled": true
   },
   "outputs": [
    {
     "name": "stderr",
     "output_type": "stream",
     "text": [
      "C:\\Users\\olivier\\anaconda\\envs\\Geo\\lib\\site-packages\\IPython\\core\\interactiveshell.py:3165: DtypeWarning: Columns (14,18,23,24,26,28,41) have mixed types.Specify dtype option on import or set low_memory=False.\n",
      "  has_raised = await self.run_ast_nodes(code_ast.body, cell_name,\n"
     ]
    },
    {
     "data": {
      "text/html": [
       "<div>\n",
       "<style scoped>\n",
       "    .dataframe tbody tr th:only-of-type {\n",
       "        vertical-align: middle;\n",
       "    }\n",
       "\n",
       "    .dataframe tbody tr th {\n",
       "        vertical-align: top;\n",
       "    }\n",
       "\n",
       "    .dataframe thead th {\n",
       "        text-align: right;\n",
       "    }\n",
       "</style>\n",
       "<table border=\"1\" class=\"dataframe\">\n",
       "  <thead>\n",
       "    <tr style=\"text-align: right;\">\n",
       "      <th></th>\n",
       "      <th>Code service CH</th>\n",
       "      <th>Reference document</th>\n",
       "      <th>1 Articles CGI</th>\n",
       "      <th>2 Articles CGI</th>\n",
       "      <th>3 Articles CGI</th>\n",
       "      <th>4 Articles CGI</th>\n",
       "      <th>5 Articles CGI</th>\n",
       "      <th>No disposition</th>\n",
       "      <th>Date mutation</th>\n",
       "      <th>Nature mutation</th>\n",
       "      <th>...</th>\n",
       "      <th>Surface Carrez du 5eme lot</th>\n",
       "      <th>Nombre de lots</th>\n",
       "      <th>Code type local</th>\n",
       "      <th>Type local</th>\n",
       "      <th>Identifiant local</th>\n",
       "      <th>Surface reelle bati</th>\n",
       "      <th>Nombre pieces principales</th>\n",
       "      <th>Nature culture</th>\n",
       "      <th>Nature culture speciale</th>\n",
       "      <th>Surface terrain</th>\n",
       "    </tr>\n",
       "  </thead>\n",
       "  <tbody>\n",
       "    <tr>\n",
       "      <th>0</th>\n",
       "      <td>NaN</td>\n",
       "      <td>NaN</td>\n",
       "      <td>NaN</td>\n",
       "      <td>NaN</td>\n",
       "      <td>NaN</td>\n",
       "      <td>NaN</td>\n",
       "      <td>NaN</td>\n",
       "      <td>1</td>\n",
       "      <td>07/01/2020</td>\n",
       "      <td>Vente</td>\n",
       "      <td>...</td>\n",
       "      <td>NaN</td>\n",
       "      <td>0</td>\n",
       "      <td>NaN</td>\n",
       "      <td>NaN</td>\n",
       "      <td>NaN</td>\n",
       "      <td>NaN</td>\n",
       "      <td>NaN</td>\n",
       "      <td>T</td>\n",
       "      <td>NaN</td>\n",
       "      <td>1061.0</td>\n",
       "    </tr>\n",
       "    <tr>\n",
       "      <th>1</th>\n",
       "      <td>NaN</td>\n",
       "      <td>NaN</td>\n",
       "      <td>NaN</td>\n",
       "      <td>NaN</td>\n",
       "      <td>NaN</td>\n",
       "      <td>NaN</td>\n",
       "      <td>NaN</td>\n",
       "      <td>1</td>\n",
       "      <td>02/01/2020</td>\n",
       "      <td>Vente</td>\n",
       "      <td>...</td>\n",
       "      <td>NaN</td>\n",
       "      <td>0</td>\n",
       "      <td>NaN</td>\n",
       "      <td>NaN</td>\n",
       "      <td>NaN</td>\n",
       "      <td>NaN</td>\n",
       "      <td>NaN</td>\n",
       "      <td>BT</td>\n",
       "      <td>NaN</td>\n",
       "      <td>85.0</td>\n",
       "    </tr>\n",
       "    <tr>\n",
       "      <th>2</th>\n",
       "      <td>NaN</td>\n",
       "      <td>NaN</td>\n",
       "      <td>NaN</td>\n",
       "      <td>NaN</td>\n",
       "      <td>NaN</td>\n",
       "      <td>NaN</td>\n",
       "      <td>NaN</td>\n",
       "      <td>1</td>\n",
       "      <td>02/01/2020</td>\n",
       "      <td>Vente</td>\n",
       "      <td>...</td>\n",
       "      <td>NaN</td>\n",
       "      <td>0</td>\n",
       "      <td>NaN</td>\n",
       "      <td>NaN</td>\n",
       "      <td>NaN</td>\n",
       "      <td>NaN</td>\n",
       "      <td>NaN</td>\n",
       "      <td>T</td>\n",
       "      <td>NaN</td>\n",
       "      <td>1115.0</td>\n",
       "    </tr>\n",
       "    <tr>\n",
       "      <th>3</th>\n",
       "      <td>NaN</td>\n",
       "      <td>NaN</td>\n",
       "      <td>NaN</td>\n",
       "      <td>NaN</td>\n",
       "      <td>NaN</td>\n",
       "      <td>NaN</td>\n",
       "      <td>NaN</td>\n",
       "      <td>1</td>\n",
       "      <td>02/01/2020</td>\n",
       "      <td>Vente</td>\n",
       "      <td>...</td>\n",
       "      <td>NaN</td>\n",
       "      <td>0</td>\n",
       "      <td>NaN</td>\n",
       "      <td>NaN</td>\n",
       "      <td>NaN</td>\n",
       "      <td>NaN</td>\n",
       "      <td>NaN</td>\n",
       "      <td>T</td>\n",
       "      <td>NaN</td>\n",
       "      <td>1940.0</td>\n",
       "    </tr>\n",
       "    <tr>\n",
       "      <th>4</th>\n",
       "      <td>NaN</td>\n",
       "      <td>NaN</td>\n",
       "      <td>NaN</td>\n",
       "      <td>NaN</td>\n",
       "      <td>NaN</td>\n",
       "      <td>NaN</td>\n",
       "      <td>NaN</td>\n",
       "      <td>1</td>\n",
       "      <td>02/01/2020</td>\n",
       "      <td>Vente</td>\n",
       "      <td>...</td>\n",
       "      <td>NaN</td>\n",
       "      <td>0</td>\n",
       "      <td>NaN</td>\n",
       "      <td>NaN</td>\n",
       "      <td>NaN</td>\n",
       "      <td>NaN</td>\n",
       "      <td>NaN</td>\n",
       "      <td>T</td>\n",
       "      <td>NaN</td>\n",
       "      <td>1148.0</td>\n",
       "    </tr>\n",
       "  </tbody>\n",
       "</table>\n",
       "<p>5 rows × 43 columns</p>\n",
       "</div>"
      ],
      "text/plain": [
       "   Code service CH  Reference document  1 Articles CGI  2 Articles CGI  \\\n",
       "0              NaN                 NaN             NaN             NaN   \n",
       "1              NaN                 NaN             NaN             NaN   \n",
       "2              NaN                 NaN             NaN             NaN   \n",
       "3              NaN                 NaN             NaN             NaN   \n",
       "4              NaN                 NaN             NaN             NaN   \n",
       "\n",
       "   3 Articles CGI  4 Articles CGI  5 Articles CGI  No disposition  \\\n",
       "0             NaN             NaN             NaN               1   \n",
       "1             NaN             NaN             NaN               1   \n",
       "2             NaN             NaN             NaN               1   \n",
       "3             NaN             NaN             NaN               1   \n",
       "4             NaN             NaN             NaN               1   \n",
       "\n",
       "  Date mutation Nature mutation  ...  Surface Carrez du 5eme lot  \\\n",
       "0    07/01/2020           Vente  ...                         NaN   \n",
       "1    02/01/2020           Vente  ...                         NaN   \n",
       "2    02/01/2020           Vente  ...                         NaN   \n",
       "3    02/01/2020           Vente  ...                         NaN   \n",
       "4    02/01/2020           Vente  ...                         NaN   \n",
       "\n",
       "   Nombre de lots Code type local Type local Identifiant local  \\\n",
       "0               0             NaN        NaN               NaN   \n",
       "1               0             NaN        NaN               NaN   \n",
       "2               0             NaN        NaN               NaN   \n",
       "3               0             NaN        NaN               NaN   \n",
       "4               0             NaN        NaN               NaN   \n",
       "\n",
       "  Surface reelle bati  Nombre pieces principales Nature culture  \\\n",
       "0                 NaN                        NaN              T   \n",
       "1                 NaN                        NaN             BT   \n",
       "2                 NaN                        NaN              T   \n",
       "3                 NaN                        NaN              T   \n",
       "4                 NaN                        NaN              T   \n",
       "\n",
       "  Nature culture speciale  Surface terrain  \n",
       "0                     NaN           1061.0  \n",
       "1                     NaN             85.0  \n",
       "2                     NaN           1115.0  \n",
       "3                     NaN           1940.0  \n",
       "4                     NaN           1148.0  \n",
       "\n",
       "[5 rows x 43 columns]"
      ]
     },
     "execution_count": 4,
     "metadata": {},
     "output_type": "execute_result"
    }
   ],
   "source": [
    "# Chargement du jeu de données\n",
    "df = pd.read_csv(filename,sep=\"|\",decimal=\",\")\n",
    "df.head()"
   ]
  },
  {
   "cell_type": "code",
   "execution_count": 5,
   "metadata": {},
   "outputs": [
    {
     "name": "stdout",
     "output_type": "stream",
     "text": [
      "Index(['Code service CH', 'Reference document', '1 Articles CGI',\n",
      "       '2 Articles CGI', '3 Articles CGI', '4 Articles CGI', '5 Articles CGI',\n",
      "       'No disposition', 'Date mutation', 'Nature mutation', 'Valeur fonciere',\n",
      "       'No voie', 'B/T/Q', 'Type de voie', 'Code voie', 'Voie', 'Code postal',\n",
      "       'Commune', 'Code departement', 'Code commune', 'Prefixe de section',\n",
      "       'Section', 'No plan', 'No Volume', '1er lot',\n",
      "       'Surface Carrez du 1er lot', '2eme lot', 'Surface Carrez du 2eme lot',\n",
      "       '3eme lot', 'Surface Carrez du 3eme lot', '4eme lot',\n",
      "       'Surface Carrez du 4eme lot', '5eme lot', 'Surface Carrez du 5eme lot',\n",
      "       'Nombre de lots', 'Code type local', 'Type local', 'Identifiant local',\n",
      "       'Surface reelle bati', 'Nombre pieces principales', 'Nature culture',\n",
      "       'Nature culture speciale', 'Surface terrain'],\n",
      "      dtype='object')\n"
     ]
    }
   ],
   "source": [
    "print(df.columns)"
   ]
  },
  {
   "cell_type": "markdown",
   "metadata": {},
   "source": [
    "## Cleaning des adresses et export"
   ]
  },
  {
   "cell_type": "code",
   "execution_count": 6,
   "metadata": {},
   "outputs": [
    {
     "data": {
      "text/html": [
       "<div>\n",
       "<style scoped>\n",
       "    .dataframe tbody tr th:only-of-type {\n",
       "        vertical-align: middle;\n",
       "    }\n",
       "\n",
       "    .dataframe tbody tr th {\n",
       "        vertical-align: top;\n",
       "    }\n",
       "\n",
       "    .dataframe thead th {\n",
       "        text-align: right;\n",
       "    }\n",
       "</style>\n",
       "<table border=\"1\" class=\"dataframe\">\n",
       "  <thead>\n",
       "    <tr style=\"text-align: right;\">\n",
       "      <th></th>\n",
       "      <th>Code service CH</th>\n",
       "      <th>Reference document</th>\n",
       "      <th>1 Articles CGI</th>\n",
       "      <th>2 Articles CGI</th>\n",
       "      <th>3 Articles CGI</th>\n",
       "      <th>4 Articles CGI</th>\n",
       "      <th>5 Articles CGI</th>\n",
       "      <th>No disposition</th>\n",
       "      <th>Date mutation</th>\n",
       "      <th>Nature mutation</th>\n",
       "      <th>...</th>\n",
       "      <th>Code type local</th>\n",
       "      <th>Type local</th>\n",
       "      <th>Identifiant local</th>\n",
       "      <th>Surface reelle bati</th>\n",
       "      <th>Nombre pieces principales</th>\n",
       "      <th>Nature culture</th>\n",
       "      <th>Nature culture speciale</th>\n",
       "      <th>Surface terrain</th>\n",
       "      <th>Code commune INSEE</th>\n",
       "      <th>Ville</th>\n",
       "    </tr>\n",
       "  </thead>\n",
       "  <tbody>\n",
       "    <tr>\n",
       "      <th>0</th>\n",
       "      <td>NaN</td>\n",
       "      <td>NaN</td>\n",
       "      <td>NaN</td>\n",
       "      <td>NaN</td>\n",
       "      <td>NaN</td>\n",
       "      <td>NaN</td>\n",
       "      <td>NaN</td>\n",
       "      <td>1</td>\n",
       "      <td>07/01/2020</td>\n",
       "      <td>Vente</td>\n",
       "      <td>...</td>\n",
       "      <td>NaN</td>\n",
       "      <td>NaN</td>\n",
       "      <td>NaN</td>\n",
       "      <td>NaN</td>\n",
       "      <td>NaN</td>\n",
       "      <td>T</td>\n",
       "      <td>NaN</td>\n",
       "      <td>1061.0</td>\n",
       "      <td>01072</td>\n",
       "      <td>1250 CEYZERIAT</td>\n",
       "    </tr>\n",
       "    <tr>\n",
       "      <th>1</th>\n",
       "      <td>NaN</td>\n",
       "      <td>NaN</td>\n",
       "      <td>NaN</td>\n",
       "      <td>NaN</td>\n",
       "      <td>NaN</td>\n",
       "      <td>NaN</td>\n",
       "      <td>NaN</td>\n",
       "      <td>1</td>\n",
       "      <td>02/01/2020</td>\n",
       "      <td>Vente</td>\n",
       "      <td>...</td>\n",
       "      <td>NaN</td>\n",
       "      <td>NaN</td>\n",
       "      <td>NaN</td>\n",
       "      <td>NaN</td>\n",
       "      <td>NaN</td>\n",
       "      <td>BT</td>\n",
       "      <td>NaN</td>\n",
       "      <td>85.0</td>\n",
       "      <td>01203</td>\n",
       "      <td>1290 LAIZ</td>\n",
       "    </tr>\n",
       "    <tr>\n",
       "      <th>2</th>\n",
       "      <td>NaN</td>\n",
       "      <td>NaN</td>\n",
       "      <td>NaN</td>\n",
       "      <td>NaN</td>\n",
       "      <td>NaN</td>\n",
       "      <td>NaN</td>\n",
       "      <td>NaN</td>\n",
       "      <td>1</td>\n",
       "      <td>02/01/2020</td>\n",
       "      <td>Vente</td>\n",
       "      <td>...</td>\n",
       "      <td>NaN</td>\n",
       "      <td>NaN</td>\n",
       "      <td>NaN</td>\n",
       "      <td>NaN</td>\n",
       "      <td>NaN</td>\n",
       "      <td>T</td>\n",
       "      <td>NaN</td>\n",
       "      <td>1115.0</td>\n",
       "      <td>01203</td>\n",
       "      <td>1290 LAIZ</td>\n",
       "    </tr>\n",
       "    <tr>\n",
       "      <th>3</th>\n",
       "      <td>NaN</td>\n",
       "      <td>NaN</td>\n",
       "      <td>NaN</td>\n",
       "      <td>NaN</td>\n",
       "      <td>NaN</td>\n",
       "      <td>NaN</td>\n",
       "      <td>NaN</td>\n",
       "      <td>1</td>\n",
       "      <td>02/01/2020</td>\n",
       "      <td>Vente</td>\n",
       "      <td>...</td>\n",
       "      <td>NaN</td>\n",
       "      <td>NaN</td>\n",
       "      <td>NaN</td>\n",
       "      <td>NaN</td>\n",
       "      <td>NaN</td>\n",
       "      <td>T</td>\n",
       "      <td>NaN</td>\n",
       "      <td>1940.0</td>\n",
       "      <td>01203</td>\n",
       "      <td>1290 LAIZ</td>\n",
       "    </tr>\n",
       "    <tr>\n",
       "      <th>4</th>\n",
       "      <td>NaN</td>\n",
       "      <td>NaN</td>\n",
       "      <td>NaN</td>\n",
       "      <td>NaN</td>\n",
       "      <td>NaN</td>\n",
       "      <td>NaN</td>\n",
       "      <td>NaN</td>\n",
       "      <td>1</td>\n",
       "      <td>02/01/2020</td>\n",
       "      <td>Vente</td>\n",
       "      <td>...</td>\n",
       "      <td>NaN</td>\n",
       "      <td>NaN</td>\n",
       "      <td>NaN</td>\n",
       "      <td>NaN</td>\n",
       "      <td>NaN</td>\n",
       "      <td>T</td>\n",
       "      <td>NaN</td>\n",
       "      <td>1148.0</td>\n",
       "      <td>01203</td>\n",
       "      <td>1290 LAIZ</td>\n",
       "    </tr>\n",
       "  </tbody>\n",
       "</table>\n",
       "<p>5 rows × 45 columns</p>\n",
       "</div>"
      ],
      "text/plain": [
       "   Code service CH  Reference document  1 Articles CGI  2 Articles CGI  \\\n",
       "0              NaN                 NaN             NaN             NaN   \n",
       "1              NaN                 NaN             NaN             NaN   \n",
       "2              NaN                 NaN             NaN             NaN   \n",
       "3              NaN                 NaN             NaN             NaN   \n",
       "4              NaN                 NaN             NaN             NaN   \n",
       "\n",
       "   3 Articles CGI  4 Articles CGI  5 Articles CGI  No disposition  \\\n",
       "0             NaN             NaN             NaN               1   \n",
       "1             NaN             NaN             NaN               1   \n",
       "2             NaN             NaN             NaN               1   \n",
       "3             NaN             NaN             NaN               1   \n",
       "4             NaN             NaN             NaN               1   \n",
       "\n",
       "  Date mutation Nature mutation  ...  Code type local  Type local  \\\n",
       "0    07/01/2020           Vente  ...              NaN         NaN   \n",
       "1    02/01/2020           Vente  ...              NaN         NaN   \n",
       "2    02/01/2020           Vente  ...              NaN         NaN   \n",
       "3    02/01/2020           Vente  ...              NaN         NaN   \n",
       "4    02/01/2020           Vente  ...              NaN         NaN   \n",
       "\n",
       "  Identifiant local Surface reelle bati Nombre pieces principales  \\\n",
       "0               NaN                 NaN                       NaN   \n",
       "1               NaN                 NaN                       NaN   \n",
       "2               NaN                 NaN                       NaN   \n",
       "3               NaN                 NaN                       NaN   \n",
       "4               NaN                 NaN                       NaN   \n",
       "\n",
       "  Nature culture Nature culture speciale Surface terrain Code commune INSEE  \\\n",
       "0              T                     NaN          1061.0              01072   \n",
       "1             BT                     NaN            85.0              01203   \n",
       "2              T                     NaN          1115.0              01203   \n",
       "3              T                     NaN          1940.0              01203   \n",
       "4              T                     NaN          1148.0              01203   \n",
       "\n",
       "            Ville  \n",
       "0  1250 CEYZERIAT  \n",
       "1       1290 LAIZ  \n",
       "2       1290 LAIZ  \n",
       "3       1290 LAIZ  \n",
       "4       1290 LAIZ  \n",
       "\n",
       "[5 rows x 45 columns]"
      ]
     },
     "execution_count": 6,
     "metadata": {},
     "output_type": "execute_result"
    }
   ],
   "source": [
    "# Manipulations sur les codes départements et codes communes\n",
    "df['Code postal'] = df['Code postal'].fillna(-1).astype(int).astype(str).replace('-1', np.nan)\n",
    "df['Code departement'] = df['Code departement'].apply(lambda x: str(x).zfill(2) if len(str(x)) == 1 else x)\n",
    "df['Code commune'] = df['Code commune'].apply(lambda x: str(x).zfill(3) if len(str(x)) < 3 else x)\n",
    "df['Code commune INSEE'] = df['Code departement'].astype(str) + df['Code commune'].astype(str)\n",
    "\n",
    "# Création d'un champ \"Ville\" pour interroger les coordonnées GPS lorsque le champ Adresse ne donne rien\n",
    "df['Ville'] = df['Code postal'] + \" \" + df['Commune']\n",
    "\n",
    "df.head()"
   ]
  },
  {
   "cell_type": "code",
   "execution_count": 7,
   "metadata": {},
   "outputs": [],
   "source": [
    "# On formate les adresses\n",
    "def escapeNan(row):\n",
    "    val = str(row)\n",
    "    if val == \"nan\":\n",
    "        val = \" \"\n",
    "    else:\n",
    "        val = val.replace('.0','') # if from float values\n",
    "        val = val + \" \"\n",
    "    return val"
   ]
  },
  {
   "cell_type": "code",
   "execution_count": 8,
   "metadata": {},
   "outputs": [],
   "source": [
    "# Modification des communes avec arrondissements\n",
    "df['Commune'] = df['Commune'].replace(['MARSEILLE 1ER', 'MARSEILLE 2EME', 'MARSEILLE 3EME', 'MARSEILLE 4EME',\n",
    "                                           'MARSEILLE 5EME', 'MARSEILLE 6EME', 'MARSEILLE 7EME', 'MARSEILLE 8EME',\n",
    "                                           'MARSEILLE 9EME', 'MARSEILLE 10EME', 'MARSEILLE 11EME', 'MARSEILLE 12EME',\n",
    "                                           'MARSEILLE 13EME', 'MARSEILLE 14EME', 'MARSEILLE 15EME', 'MARSEILLE 16EME',\n",
    "                                           'LYON 1ER', 'LYON 2EME', 'LYON 3EME', 'LYON 4EME', 'LYON 5EME',\n",
    "                                           'LYON 6EME', 'LYON 7EME', 'LYON 8EME', 'LYON 9EME',\n",
    "                                           'PARIS 01', 'PARIS 02', 'PARIS 03', 'PARIS 04', 'PARIS 05', 'PARIS 06',\n",
    "                                           'PARIS 07', 'PARIS 08', 'PARIS 09', 'PARIS 10', 'PARIS 11', 'PARIS 12',\n",
    "                                           'PARIS 13', 'PARIS 14', 'PARIS 15', 'PARIS 16', 'PARIS 17', 'PARIS 18',\n",
    "                                           'PARIS 19', 'PARIS 20'],\n",
    "                                          ['MARSEILLE', 'MARSEILLE', 'MARSEILLE', 'MARSEILLE',\n",
    "                                          'MARSEILLE', 'MARSEILLE', 'MARSEILLE', 'MARSEILLE',\n",
    "                                          'MARSEILLE', 'MARSEILLE', 'MARSEILLE', 'MARSEILLE',\n",
    "                                          'MARSEILLE', 'MARSEILLE', 'MARSEILLE', 'MARSEILLE',\n",
    "                                          'LYON', 'LYON', 'LYON', 'LYON', 'LYON',\n",
    "                                          'LYON', 'LYON', 'LYON', 'LYON',\n",
    "                                          'PARIS', 'PARIS', 'PARIS', 'PARIS', 'PARIS', 'PARIS',\n",
    "                                          'PARIS', 'PARIS', 'PARIS', 'PARIS', 'PARIS', 'PARIS',\n",
    "                                          'PARIS', 'PARIS', 'PARIS', 'PARIS', 'PARIS', 'PARIS',\n",
    "                                          'PARIS', 'PARIS'])"
   ]
  },
  {
   "cell_type": "code",
   "execution_count": 9,
   "metadata": {},
   "outputs": [],
   "source": [
    "# Ajout d'apostrophes après L et D pour une meilleure reconnaissance des noms de rues\n",
    "df['Voie'] = df['Voie'].replace([' L ', ' D '], [' L\\'', ' D\\''], regex = True)"
   ]
  },
  {
   "cell_type": "code",
   "execution_count": 10,
   "metadata": {},
   "outputs": [],
   "source": [
    "# Création du champ \"addressName\" qui sera utilisée dans la requête API\n",
    "df['Adresse'] = df.apply(lambda row: \n",
    "    escapeNan(row['No voie'])\n",
    "    + escapeNan(row['Type de voie'])         \n",
    "    + escapeNan(row['Voie'])\n",
    "    + escapeNan(row['Code postal']).zfill(5) # pour respecter le format des codes postaux\n",
    "    + str(row['Commune'])\n",
    "    , axis = 1).str.strip()"
   ]
  },
  {
   "cell_type": "code",
   "execution_count": 11,
   "metadata": {},
   "outputs": [
    {
     "data": {
      "text/html": [
       "<div>\n",
       "<style scoped>\n",
       "    .dataframe tbody tr th:only-of-type {\n",
       "        vertical-align: middle;\n",
       "    }\n",
       "\n",
       "    .dataframe tbody tr th {\n",
       "        vertical-align: top;\n",
       "    }\n",
       "\n",
       "    .dataframe thead th {\n",
       "        text-align: right;\n",
       "    }\n",
       "</style>\n",
       "<table border=\"1\" class=\"dataframe\">\n",
       "  <thead>\n",
       "    <tr style=\"text-align: right;\">\n",
       "      <th></th>\n",
       "      <th>Code service CH</th>\n",
       "      <th>Reference document</th>\n",
       "      <th>1 Articles CGI</th>\n",
       "      <th>2 Articles CGI</th>\n",
       "      <th>3 Articles CGI</th>\n",
       "      <th>4 Articles CGI</th>\n",
       "      <th>5 Articles CGI</th>\n",
       "      <th>No disposition</th>\n",
       "      <th>Date mutation</th>\n",
       "      <th>Nature mutation</th>\n",
       "      <th>...</th>\n",
       "      <th>Type local</th>\n",
       "      <th>Identifiant local</th>\n",
       "      <th>Surface reelle bati</th>\n",
       "      <th>Nombre pieces principales</th>\n",
       "      <th>Nature culture</th>\n",
       "      <th>Nature culture speciale</th>\n",
       "      <th>Surface terrain</th>\n",
       "      <th>Code commune INSEE</th>\n",
       "      <th>Ville</th>\n",
       "      <th>Adresse</th>\n",
       "    </tr>\n",
       "  </thead>\n",
       "  <tbody>\n",
       "    <tr>\n",
       "      <th>0</th>\n",
       "      <td>NaN</td>\n",
       "      <td>NaN</td>\n",
       "      <td>NaN</td>\n",
       "      <td>NaN</td>\n",
       "      <td>NaN</td>\n",
       "      <td>NaN</td>\n",
       "      <td>NaN</td>\n",
       "      <td>1</td>\n",
       "      <td>07/01/2020</td>\n",
       "      <td>Vente</td>\n",
       "      <td>...</td>\n",
       "      <td>NaN</td>\n",
       "      <td>NaN</td>\n",
       "      <td>NaN</td>\n",
       "      <td>NaN</td>\n",
       "      <td>T</td>\n",
       "      <td>NaN</td>\n",
       "      <td>1061.0</td>\n",
       "      <td>01072</td>\n",
       "      <td>1250 CEYZERIAT</td>\n",
       "      <td>FORTUNAT 1250 CEYZERIAT</td>\n",
       "    </tr>\n",
       "    <tr>\n",
       "      <th>1</th>\n",
       "      <td>NaN</td>\n",
       "      <td>NaN</td>\n",
       "      <td>NaN</td>\n",
       "      <td>NaN</td>\n",
       "      <td>NaN</td>\n",
       "      <td>NaN</td>\n",
       "      <td>NaN</td>\n",
       "      <td>1</td>\n",
       "      <td>02/01/2020</td>\n",
       "      <td>Vente</td>\n",
       "      <td>...</td>\n",
       "      <td>NaN</td>\n",
       "      <td>NaN</td>\n",
       "      <td>NaN</td>\n",
       "      <td>NaN</td>\n",
       "      <td>BT</td>\n",
       "      <td>NaN</td>\n",
       "      <td>85.0</td>\n",
       "      <td>01203</td>\n",
       "      <td>1290 LAIZ</td>\n",
       "      <td>TERRES DES CINQ SAULES 1290 LAIZ</td>\n",
       "    </tr>\n",
       "    <tr>\n",
       "      <th>2</th>\n",
       "      <td>NaN</td>\n",
       "      <td>NaN</td>\n",
       "      <td>NaN</td>\n",
       "      <td>NaN</td>\n",
       "      <td>NaN</td>\n",
       "      <td>NaN</td>\n",
       "      <td>NaN</td>\n",
       "      <td>1</td>\n",
       "      <td>02/01/2020</td>\n",
       "      <td>Vente</td>\n",
       "      <td>...</td>\n",
       "      <td>NaN</td>\n",
       "      <td>NaN</td>\n",
       "      <td>NaN</td>\n",
       "      <td>NaN</td>\n",
       "      <td>T</td>\n",
       "      <td>NaN</td>\n",
       "      <td>1115.0</td>\n",
       "      <td>01203</td>\n",
       "      <td>1290 LAIZ</td>\n",
       "      <td>BOIS DU CHAMP RION 1290 LAIZ</td>\n",
       "    </tr>\n",
       "    <tr>\n",
       "      <th>3</th>\n",
       "      <td>NaN</td>\n",
       "      <td>NaN</td>\n",
       "      <td>NaN</td>\n",
       "      <td>NaN</td>\n",
       "      <td>NaN</td>\n",
       "      <td>NaN</td>\n",
       "      <td>NaN</td>\n",
       "      <td>1</td>\n",
       "      <td>02/01/2020</td>\n",
       "      <td>Vente</td>\n",
       "      <td>...</td>\n",
       "      <td>NaN</td>\n",
       "      <td>NaN</td>\n",
       "      <td>NaN</td>\n",
       "      <td>NaN</td>\n",
       "      <td>T</td>\n",
       "      <td>NaN</td>\n",
       "      <td>1940.0</td>\n",
       "      <td>01203</td>\n",
       "      <td>1290 LAIZ</td>\n",
       "      <td>EN COROBERT 1290 LAIZ</td>\n",
       "    </tr>\n",
       "    <tr>\n",
       "      <th>4</th>\n",
       "      <td>NaN</td>\n",
       "      <td>NaN</td>\n",
       "      <td>NaN</td>\n",
       "      <td>NaN</td>\n",
       "      <td>NaN</td>\n",
       "      <td>NaN</td>\n",
       "      <td>NaN</td>\n",
       "      <td>1</td>\n",
       "      <td>02/01/2020</td>\n",
       "      <td>Vente</td>\n",
       "      <td>...</td>\n",
       "      <td>NaN</td>\n",
       "      <td>NaN</td>\n",
       "      <td>NaN</td>\n",
       "      <td>NaN</td>\n",
       "      <td>T</td>\n",
       "      <td>NaN</td>\n",
       "      <td>1148.0</td>\n",
       "      <td>01203</td>\n",
       "      <td>1290 LAIZ</td>\n",
       "      <td>TERRES DES CINQ SAULES 1290 LAIZ</td>\n",
       "    </tr>\n",
       "  </tbody>\n",
       "</table>\n",
       "<p>5 rows × 46 columns</p>\n",
       "</div>"
      ],
      "text/plain": [
       "   Code service CH  Reference document  1 Articles CGI  2 Articles CGI  \\\n",
       "0              NaN                 NaN             NaN             NaN   \n",
       "1              NaN                 NaN             NaN             NaN   \n",
       "2              NaN                 NaN             NaN             NaN   \n",
       "3              NaN                 NaN             NaN             NaN   \n",
       "4              NaN                 NaN             NaN             NaN   \n",
       "\n",
       "   3 Articles CGI  4 Articles CGI  5 Articles CGI  No disposition  \\\n",
       "0             NaN             NaN             NaN               1   \n",
       "1             NaN             NaN             NaN               1   \n",
       "2             NaN             NaN             NaN               1   \n",
       "3             NaN             NaN             NaN               1   \n",
       "4             NaN             NaN             NaN               1   \n",
       "\n",
       "  Date mutation Nature mutation  ...  Type local  Identifiant local  \\\n",
       "0    07/01/2020           Vente  ...         NaN                NaN   \n",
       "1    02/01/2020           Vente  ...         NaN                NaN   \n",
       "2    02/01/2020           Vente  ...         NaN                NaN   \n",
       "3    02/01/2020           Vente  ...         NaN                NaN   \n",
       "4    02/01/2020           Vente  ...         NaN                NaN   \n",
       "\n",
       "  Surface reelle bati Nombre pieces principales Nature culture  \\\n",
       "0                 NaN                       NaN              T   \n",
       "1                 NaN                       NaN             BT   \n",
       "2                 NaN                       NaN              T   \n",
       "3                 NaN                       NaN              T   \n",
       "4                 NaN                       NaN              T   \n",
       "\n",
       "  Nature culture speciale Surface terrain Code commune INSEE           Ville  \\\n",
       "0                     NaN          1061.0              01072  1250 CEYZERIAT   \n",
       "1                     NaN            85.0              01203       1290 LAIZ   \n",
       "2                     NaN          1115.0              01203       1290 LAIZ   \n",
       "3                     NaN          1940.0              01203       1290 LAIZ   \n",
       "4                     NaN          1148.0              01203       1290 LAIZ   \n",
       "\n",
       "                            Adresse  \n",
       "0           FORTUNAT 1250 CEYZERIAT  \n",
       "1  TERRES DES CINQ SAULES 1290 LAIZ  \n",
       "2      BOIS DU CHAMP RION 1290 LAIZ  \n",
       "3             EN COROBERT 1290 LAIZ  \n",
       "4  TERRES DES CINQ SAULES 1290 LAIZ  \n",
       "\n",
       "[5 rows x 46 columns]"
      ]
     },
     "execution_count": 11,
     "metadata": {},
     "output_type": "execute_result"
    }
   ],
   "source": [
    "df['Ville'] = df['Ville'].replace('-', ' ', regex=True).astype(str)\n",
    "df.head()"
   ]
  },
  {
   "cell_type": "code",
   "execution_count": 12,
   "metadata": {},
   "outputs": [
    {
     "data": {
      "text/plain": [
       "(2459560, 9)"
      ]
     },
     "execution_count": 12,
     "metadata": {},
     "output_type": "execute_result"
    }
   ],
   "source": [
    "# Extract des adresses\n",
    "ad = df[['No voie', 'Type de voie', 'Voie', 'Code postal', 'Commune', 'Code departement', 'Code commune INSEE', 'Ville', 'Adresse']]\n",
    "ad.shape"
   ]
  },
  {
   "cell_type": "code",
   "execution_count": 13,
   "metadata": {},
   "outputs": [
    {
     "data": {
      "text/plain": [
       "(1059387, 9)"
      ]
     },
     "execution_count": 13,
     "metadata": {},
     "output_type": "execute_result"
    }
   ],
   "source": [
    "# On supprime les adresses dupliquées pour éviter d'interroger les API plusieurs fois avec exactement la même adresse\n",
    "ad = ad.drop_duplicates()\n",
    "ad.shape"
   ]
  },
  {
   "cell_type": "markdown",
   "metadata": {},
   "source": [
    "### Export des adresses"
   ]
  },
  {
   "cell_type": "code",
   "execution_count": 44,
   "metadata": {},
   "outputs": [],
   "source": [
    "ad.to_csv('01A - export_dvf_adresses_' + year + '.csv')"
   ]
  },
  {
   "cell_type": "markdown",
   "metadata": {},
   "source": [
    "## Filter DVF"
   ]
  },
  {
   "cell_type": "code",
   "execution_count": 14,
   "metadata": {},
   "outputs": [],
   "source": [
    "##Import des données\n",
    "dep_reg = pd.read_csv(\"databases/departements-region.csv\",sep=\",\")\n",
    "communes_littorales = pd.read_csv(\"databases/communes_littorales_2019.csv\", sep=\";\")"
   ]
  },
  {
   "cell_type": "code",
   "execution_count": 15,
   "metadata": {},
   "outputs": [
    {
     "data": {
      "text/plain": [
       "(2459560, 46)"
      ]
     },
     "execution_count": 15,
     "metadata": {},
     "output_type": "execute_result"
    }
   ],
   "source": [
    "df.shape"
   ]
  },
  {
   "cell_type": "code",
   "execution_count": 16,
   "metadata": {},
   "outputs": [],
   "source": [
    "##DVF\n",
    "\n",
    "#filtres\n",
    "df = df[(df[\"Type local\"] == \"Appartement\") | (df[\"Type local\"] == \"Maison\")]\n",
    "df = df[df[\"Nature mutation\"] == \"Vente\"]"
   ]
  },
  {
   "cell_type": "code",
   "execution_count": 17,
   "metadata": {},
   "outputs": [
    {
     "data": {
      "text/plain": [
       "(923067, 46)"
      ]
     },
     "execution_count": 17,
     "metadata": {},
     "output_type": "execute_result"
    }
   ],
   "source": [
    "df.shape"
   ]
  },
  {
   "cell_type": "markdown",
   "metadata": {},
   "source": [
    "A noter qu'on supprime de nombreuses lignes, car plus d'1M de lignes sont de type local = NA (à creuser ?)"
   ]
  },
  {
   "cell_type": "code",
   "execution_count": 18,
   "metadata": {},
   "outputs": [
    {
     "data": {
      "text/plain": [
       "Maison         526507\n",
       "Appartement    396560\n",
       "Name: Type local, dtype: int64"
      ]
     },
     "execution_count": 18,
     "metadata": {},
     "output_type": "execute_result"
    }
   ],
   "source": [
    "df['Type local'].value_counts()"
   ]
  },
  {
   "cell_type": "code",
   "execution_count": 19,
   "metadata": {},
   "outputs": [
    {
     "data": {
      "text/plain": [
       "(610668, 39)"
      ]
     },
     "execution_count": 19,
     "metadata": {},
     "output_type": "execute_result"
    }
   ],
   "source": [
    "# Colonnes inutiles\n",
    "df.drop([\"Code service CH\",\"Reference document\",\"1 Articles CGI\",\n",
    "              \"2 Articles CGI\",\"3 Articles CGI\",\"4 Articles CGI\",\n",
    "              \"5 Articles CGI\"], axis = 1, inplace = True)\n",
    "\n",
    "# Suppression des lignes dublons\n",
    "df.drop_duplicates(subset = None, inplace = True)\n",
    "df = df.drop_duplicates(subset = [\"Date mutation\",\"Valeur fonciere\",\"Code postal\"], keep = False)\n",
    "\n",
    "df.shape"
   ]
  },
  {
   "cell_type": "code",
   "execution_count": 20,
   "metadata": {},
   "outputs": [],
   "source": [
    "# Gestion des arrondissements de Paris, Lyon et Marseille\n",
    "df[\"Commune2\"] = df[\"Commune\"]\n",
    "dico = {\"Commune2\":{\"PARIS 01\":\"PARIS\",\"PARIS 02\":\"PARIS\",\n",
    "                              \"PARIS 03\":\"PARIS\",\n",
    "                              \"PARIS 04\":\"PARIS\",\n",
    "                              \"PARIS 05\":\"PARIS\",\n",
    "                              \"PARIS 06\":\"PARIS\",\n",
    "                              \"PARIS 07\":\"PARIS\",\n",
    "                              \"PARIS 08\":\"PARIS\",\n",
    "                              \"PARIS 09\":\"PARIS\",\n",
    "                              \"PARIS 10\":\"PARIS\",\n",
    "                              \"PARIS 11\":\"PARIS\",\n",
    "                              \"PARIS 12\":\"PARIS\",\n",
    "                              \"PARIS 13\":\"PARIS\",\n",
    "                              \"PARIS 14\":\"PARIS\",\n",
    "                              \"PARIS 15\":\"PARIS\",\n",
    "                              \"PARIS 16\":\"PARIS\",\n",
    "                              \"PARIS 17\":\"PARIS\",\n",
    "                              \"PARIS 18\":\"PARIS\",\n",
    "                              \"PARIS 19\":\"PARIS\",\n",
    "                              \"PARIS 20\":\"PARIS\",\n",
    "                              \"MARSEILLE 1ER\":\"MARSEILLE\",\n",
    "                              \"MARSEILLE 2EME\":\"MARSEILLE\",\n",
    "                              \"MARSEILLE 3EME\":\"MARSEILLE\",\n",
    "                              \"MARSEILLE 4EME\":\"MARSEILLE\",\n",
    "                              \"MARSEILLE 5EME\":\"MARSEILLE\",\n",
    "                              \"MARSEILLE 6EME\":\"MARSEILLE\",\n",
    "                              \"MARSEILLE 7EME\":\"MARSEILLE\",\n",
    "                              \"MARSEILLE 8EME\":\"MARSEILLE\",\n",
    "                              \"MARSEILLE 9EME\":\"MARSEILLE\",\n",
    "                              \"MARSEILLE 10EME\":\"MARSEILLE\",\n",
    "                              \"MARSEILLE 11EME\":\"MARSEILLE\",\n",
    "                              \"MARSEILLE 12EME\":\"MARSEILLE\",\n",
    "                              \"MARSEILLE 13EME\":\"MARSEILLE\",\n",
    "                              \"MARSEILLE 14EME\":\"MARSEILLE\",\n",
    "                              \"MARSEILLE 15EME\":\"MARSEILLE\",\n",
    "                              \"LYON 1ER\":\"LYON\",\n",
    "                              \"LYON 2EME\":\"LYON\",\n",
    "                              \"LYON 2EME\":\"LYON\",\n",
    "                              \"LYON 3EME\":\"LYON\",\n",
    "                              \"LYON 4EME\":\"LYON\",\n",
    "                              \"LYON 5EME\":\"LYON\",\n",
    "                              \"LYON 6EME\":\"LYON\",\n",
    "                              \"LYON 7EME\":\"LYON\",\n",
    "                              \"LYON 8EME\":\"LYON\",\n",
    "                              \"LYON 9EME\":\"LYON\"}}\n",
    "df = df.replace(dico)\n",
    "del dico"
   ]
  },
  {
   "cell_type": "code",
   "execution_count": 21,
   "metadata": {},
   "outputs": [],
   "source": [
    "df[\"Prix m2\"] = df[\"Valeur fonciere\"]/df[\"Surface reelle bati\"]\n",
    "df[\"Paris\"]= df[\"Commune2\"].apply(lambda x : 1 if x == \"PARIS\" else 0)\n",
    "Paris = df[df[\"Paris\"]==1]\n",
    "Autre_villes = df[df[\"Paris\"]==0]"
   ]
  },
  {
   "cell_type": "code",
   "execution_count": 22,
   "metadata": {},
   "outputs": [
    {
     "name": "stdout",
     "output_type": "stream",
     "text": [
      "2023354.9999999958\n",
      "109000.0\n",
      "210.0\n",
      "9.0\n",
      "20769.23076923077\n",
      "7222.222222222223\n"
     ]
    }
   ],
   "source": [
    "# Gestion des valeurs abberantes Paris\n",
    "outliers_max_Paris = Paris[\"Valeur fonciere\"].quantile(0.97)\n",
    "outliers_min_Paris = Paris[\"Valeur fonciere\"].quantile(0.05)\n",
    "outliers_max_Paris_surface = Paris[\"Surface reelle bati\"].quantile(0.99)\n",
    "outliers_min_Paris_surface = Paris[\"Surface reelle bati\"].quantile(0.01)\n",
    "outliers_max_Paris_prix_m2= Paris[\"Prix m2\"].quantile(0.98)\n",
    "outliers_min_Paris_prix_m2 = Paris[\"Prix m2\"].quantile(0.1)\n",
    "\n",
    "Paris = Paris[(Paris[\"Valeur fonciere\"] < outliers_max_Paris) & \n",
    "              (Paris[\"Valeur fonciere\"] > outliers_min_Paris) &\n",
    "              (Paris[\"Surface reelle bati\"] < outliers_max_Paris_surface) &\n",
    "              (Paris[\"Surface reelle bati\"] > outliers_min_Paris_surface) &\n",
    "              (Paris[\"Prix m2\"] < outliers_max_Paris_prix_m2) &\n",
    "              (Paris[\"Prix m2\"] > outliers_min_Paris_prix_m2) ]\n",
    "\n",
    "print(outliers_max_Paris)\n",
    "print(outliers_min_Paris)\n",
    "print(outliers_max_Paris_surface)\n",
    "print(outliers_min_Paris_surface)\n",
    "print(outliers_max_Paris_prix_m2)\n",
    "print(outliers_min_Paris_prix_m2)\n",
    "\n",
    "del outliers_max_Paris, outliers_min_Paris, outliers_max_Paris_surface, outliers_min_Paris_surface\n",
    "del outliers_max_Paris_prix_m2, outliers_min_Paris_prix_m2"
   ]
  },
  {
   "cell_type": "code",
   "execution_count": 23,
   "metadata": {},
   "outputs": [
    {
     "name": "stdout",
     "output_type": "stream",
     "text": [
      "1170559.799999965\n",
      "42500.0\n",
      "333.0\n",
      "10.0\n",
      "14500.684500000638\n",
      "994.3181818181819\n"
     ]
    }
   ],
   "source": [
    "# Gestion des valeurs abberantes des villes autre que Paris\n",
    "outliers_max_Autre_villes = Autre_villes[\"Valeur fonciere\"].quantile(0.996)\n",
    "outliers_min_Autre_villes = Autre_villes[\"Valeur fonciere\"].quantile(0.05)\n",
    "outliers_max_Autre_villes_surface = Autre_villes[\"Surface reelle bati\"].quantile(0.999)\n",
    "outliers_min_Autre_villes_surface = Autre_villes[\"Surface reelle bati\"].quantile(0.0005)\n",
    "outliers_max_Autre_villes_prix_m2= Autre_villes[\"Prix m2\"].quantile(0.998)\n",
    "outliers_min_Autre_villes_prix_m2 = Autre_villes[\"Prix m2\"].quantile(0.125)\n",
    "\n",
    "Autre_villes = Autre_villes[(Autre_villes[\"Valeur fonciere\"] < outliers_max_Autre_villes) & \n",
    "              (Autre_villes[\"Valeur fonciere\"] > outliers_min_Autre_villes) &\n",
    "              (Autre_villes[\"Surface reelle bati\"] < outliers_max_Autre_villes_surface) &\n",
    "              (Autre_villes[\"Surface reelle bati\"] > outliers_min_Autre_villes_surface) &\n",
    "              (Autre_villes[\"Prix m2\"] < outliers_max_Autre_villes_prix_m2) &\n",
    "              (Autre_villes[\"Prix m2\"] > outliers_min_Autre_villes_prix_m2) ]\n",
    "\n",
    "print(outliers_max_Autre_villes)\n",
    "print(outliers_min_Autre_villes)\n",
    "print(outliers_max_Autre_villes_surface)\n",
    "print(outliers_min_Autre_villes_surface)\n",
    "print(outliers_max_Autre_villes_prix_m2)\n",
    "print(outliers_min_Autre_villes_prix_m2)\n",
    "\n",
    "del outliers_max_Autre_villes, outliers_min_Autre_villes, outliers_max_Autre_villes_surface\n",
    "del outliers_min_Autre_villes_surface, outliers_max_Autre_villes_prix_m2, outliers_min_Autre_villes_prix_m2"
   ]
  },
  {
   "cell_type": "code",
   "execution_count": 24,
   "metadata": {},
   "outputs": [],
   "source": [
    "df_clean = pd.concat([Paris,Autre_villes], axis = 0)\n",
    "del Paris, Autre_villes"
   ]
  },
  {
   "cell_type": "code",
   "execution_count": 25,
   "metadata": {},
   "outputs": [],
   "source": [
    "##Ajout des régions via le code département\n",
    "dep_reg = dep_reg.rename(columns = {\"num_dep\":\"Code departement\"})\n",
    "dico2 = {\"Code departement\":{\"2A\":\"201\",\"2B\":\"202\"}}\n",
    "dep_reg = dep_reg.replace(dico2)\n",
    "dep_reg[\"Code departement\"] = dep_reg[\"Code departement\"].astype('int32')\n",
    "df_clean = df_clean.replace(dico2)\n",
    "df_clean[\"Code departement\"] = df_clean[\"Code departement\"].astype('int32')\n",
    "df_clean = df_clean.merge(right = dep_reg , on = 'Code departement', how = 'left')\n",
    "df_clean = df_clean[(df_clean[\"Code departement\"] != 201) & (df_clean[\"Code departement\"] != 202)]"
   ]
  },
  {
   "cell_type": "code",
   "execution_count": 26,
   "metadata": {},
   "outputs": [],
   "source": [
    "## Ajout des communes possédant une surface maritime\n",
    "communes_littorales = communes_littorales.drop_duplicates(keep =\"first\")\n",
    "df_clean = df_clean.merge(right = communes_littorales , on = 'Commune', how = 'left')\n",
    "dummies = pd.get_dummies(df_clean[\"Classement\"])\n",
    "df_clean = pd.concat([df_clean, dummies],axis =1)\n",
    "df_clean[\"Mer\"] = df_clean[\"Mer\"] .astype(\"object\")\n",
    "dico3 = {\"Mer\":{\"1\":\"OUI\",\"0\":\"NON\"}}\n",
    "df_clean = df_clean.replace(dico3)\n",
    "df_clean.drop(\"Classement\", axis = 1, inplace = True)\n",
    "\n",
    "del communes_littorales, dep_reg, dico2, dico3, dummies"
   ]
  },
  {
   "cell_type": "code",
   "execution_count": 27,
   "metadata": {},
   "outputs": [
    {
     "data": {
      "text/plain": [
       "(523639, 45)"
      ]
     },
     "execution_count": 27,
     "metadata": {},
     "output_type": "execute_result"
    }
   ],
   "source": [
    "df_clean.shape"
   ]
  },
  {
   "cell_type": "code",
   "execution_count": 29,
   "metadata": {},
   "outputs": [],
   "source": [
    "df_clean.groupby(['Code departement', 'Type local'])['Prix m2'].mean().to_csv('prix m2 par dep.csv')"
   ]
  },
  {
   "cell_type": "code",
   "execution_count": 30,
   "metadata": {},
   "outputs": [],
   "source": [
    "df_clean.to_csv(\"01B - dvf_sans_gps_iris_\" + year + \".csv\")"
   ]
  },
  {
   "cell_type": "code",
   "execution_count": null,
   "metadata": {},
   "outputs": [],
   "source": []
  }
 ],
 "metadata": {
  "kernelspec": {
   "display_name": "Python 3",
   "language": "python",
   "name": "python3"
  },
  "language_info": {
   "codemirror_mode": {
    "name": "ipython",
    "version": 3
   },
   "file_extension": ".py",
   "mimetype": "text/x-python",
   "name": "python",
   "nbconvert_exporter": "python",
   "pygments_lexer": "ipython3",
   "version": "3.8.10"
  }
 },
 "nbformat": 4,
 "nbformat_minor": 4
}
