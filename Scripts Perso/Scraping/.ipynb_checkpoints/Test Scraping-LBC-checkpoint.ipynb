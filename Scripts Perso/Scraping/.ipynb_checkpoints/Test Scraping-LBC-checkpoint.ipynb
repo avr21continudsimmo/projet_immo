{
 "cells": [
  {
   "cell_type": "code",
   "execution_count": 15,
   "id": "af7920db",
   "metadata": {},
   "outputs": [],
   "source": [
    "from selenium import webdriver\n",
    "\n",
    "DRIVER_PATH = './chromedriver' #the path where you have \"chromedriver\" file.\n",
    "driver = webdriver.Chrome(executable_path=DRIVER_PATH)\n",
    "driver.get('https://leboncoin.com')"
   ]
  },
  {
   "cell_type": "code",
   "execution_count": 16,
   "id": "7acc30c7",
   "metadata": {},
   "outputs": [],
   "source": [
    "from selenium.webdriver.chrome.options import Options\n",
    "\n",
    "options = Options()\n",
    "options.add_argument(\"--incognito\")\n",
    "\n",
    "driver = webdriver.Chrome(options=options, executable_path=DRIVER_PATH)\n",
    "driver.get(\"https://www.leboncoin.fr/recherche?category=9&price=100000-110000&rooms=5-max&square=50-80\")\n",
    "#print(driver.page_source)\n",
    "#driver.quit()"
   ]
  },
  {
   "cell_type": "code",
   "execution_count": 33,
   "id": "26184f8e",
   "metadata": {},
   "outputs": [
    {
     "ename": "TypeError",
     "evalue": "object of type 'WebElement' has no len()",
     "output_type": "error",
     "traceback": [
      "\u001b[1;31m---------------------------------------------------------------------------\u001b[0m",
      "\u001b[1;31mTypeError\u001b[0m                                 Traceback (most recent call last)",
      "\u001b[1;32m<ipython-input-33-491a5c053b9e>\u001b[0m in \u001b[0;36m<module>\u001b[1;34m\u001b[0m\n\u001b[0;32m      1\u001b[0m \u001b[1;31m#items = len(driver.find_element_by_xpath(\"//div[@class[contains(.,'styles_adCard')]]\"))\u001b[0m\u001b[1;33m\u001b[0m\u001b[1;33m\u001b[0m\u001b[1;33m\u001b[0m\u001b[0m\n\u001b[1;32m----> 2\u001b[1;33m \u001b[0mitems\u001b[0m \u001b[1;33m=\u001b[0m \u001b[0mlen\u001b[0m\u001b[1;33m(\u001b[0m\u001b[0mdriver\u001b[0m\u001b[1;33m.\u001b[0m\u001b[0mfind_element_by_xpath\u001b[0m\u001b[1;33m(\u001b[0m\u001b[1;34m\"/html\"\u001b[0m\u001b[1;33m)\u001b[0m\u001b[1;33m)\u001b[0m\u001b[1;33m\u001b[0m\u001b[1;33m\u001b[0m\u001b[0m\n\u001b[0m\u001b[0;32m      3\u001b[0m \u001b[0mitems\u001b[0m\u001b[1;33m\u001b[0m\u001b[1;33m\u001b[0m\u001b[0m\n\u001b[0;32m      4\u001b[0m \u001b[1;33m\u001b[0m\u001b[0m\n\u001b[0;32m      5\u001b[0m \u001b[1;31m#\"//h4/a[contains(text(),'SAP M')]\"\u001b[0m\u001b[1;33m\u001b[0m\u001b[1;33m\u001b[0m\u001b[1;33m\u001b[0m\u001b[0m\n",
      "\u001b[1;31mTypeError\u001b[0m: object of type 'WebElement' has no len()"
     ]
    }
   ],
   "source": [
    "#items = len(driver.find_element_by_xpath(\"//div[@class[contains(.,'styles_adCard')]]\"))\n",
    "items = len(driver.find_elements_by_xpath(\"/html\"))\n",
    "items\n",
    "\n",
    "#\"//h4/a[contains(text(),'SAP M')]\"\n",
    "#//*[contains(text(), 'ABC')]"
   ]
  },
  {
   "cell_type": "code",
   "execution_count": 49,
   "id": "0c370b48",
   "metadata": {},
   "outputs": [
    {
     "data": {
      "text/plain": [
       "[<selenium.webdriver.remote.webelement.WebElement (session=\"d773dd239ccb06f929074ec472366c5d\", element=\"1f7caa3b-aeca-4f93-90fe-dc5f649c41cc\")>,\n",
       " <selenium.webdriver.remote.webelement.WebElement (session=\"d773dd239ccb06f929074ec472366c5d\", element=\"ee7ce2a5-3bca-45c8-aec0-c024aca500fe\")>,\n",
       " <selenium.webdriver.remote.webelement.WebElement (session=\"d773dd239ccb06f929074ec472366c5d\", element=\"9b6035ee-e14a-4bf2-86bb-7f9d6458e094\")>,\n",
       " <selenium.webdriver.remote.webelement.WebElement (session=\"d773dd239ccb06f929074ec472366c5d\", element=\"9d9bb274-6c09-4a41-8798-2806a4292ede\")>,\n",
       " <selenium.webdriver.remote.webelement.WebElement (session=\"d773dd239ccb06f929074ec472366c5d\", element=\"0c976a6c-356c-4913-bd56-db1f70702cbf\")>,\n",
       " <selenium.webdriver.remote.webelement.WebElement (session=\"d773dd239ccb06f929074ec472366c5d\", element=\"69cabb4f-e94f-49f5-ae60-afb9c9b4ee08\")>,\n",
       " <selenium.webdriver.remote.webelement.WebElement (session=\"d773dd239ccb06f929074ec472366c5d\", element=\"7ba9ff4f-7342-4079-9568-7ca40f7393dc\")>,\n",
       " <selenium.webdriver.remote.webelement.WebElement (session=\"d773dd239ccb06f929074ec472366c5d\", element=\"657706a9-324a-4325-ae89-b6f7e244feb2\")>,\n",
       " <selenium.webdriver.remote.webelement.WebElement (session=\"d773dd239ccb06f929074ec472366c5d\", element=\"f2164d42-bb60-4e59-8068-a3e081b2ad3f\")>,\n",
       " <selenium.webdriver.remote.webelement.WebElement (session=\"d773dd239ccb06f929074ec472366c5d\", element=\"ca4b887f-e6d6-451a-b3f0-e946870d7dee\")>,\n",
       " <selenium.webdriver.remote.webelement.WebElement (session=\"d773dd239ccb06f929074ec472366c5d\", element=\"4ca8411c-45a5-44e5-9245-447208a5eee8\")>,\n",
       " <selenium.webdriver.remote.webelement.WebElement (session=\"d773dd239ccb06f929074ec472366c5d\", element=\"91fad392-dfc2-4206-a935-5d96af679846\")>,\n",
       " <selenium.webdriver.remote.webelement.WebElement (session=\"d773dd239ccb06f929074ec472366c5d\", element=\"c9da374b-a974-4e3d-95d2-ef9872c54597\")>,\n",
       " <selenium.webdriver.remote.webelement.WebElement (session=\"d773dd239ccb06f929074ec472366c5d\", element=\"5c5da901-c597-46d7-b488-09efd6e91f2e\")>,\n",
       " <selenium.webdriver.remote.webelement.WebElement (session=\"d773dd239ccb06f929074ec472366c5d\", element=\"8ae41e8a-8cde-4e2a-b48b-6901e22dc62c\")>,\n",
       " <selenium.webdriver.remote.webelement.WebElement (session=\"d773dd239ccb06f929074ec472366c5d\", element=\"d1aba071-fdf1-4c23-bf2d-7c157d9ec971\")>,\n",
       " <selenium.webdriver.remote.webelement.WebElement (session=\"d773dd239ccb06f929074ec472366c5d\", element=\"59cefd86-5de8-488f-a7bc-2b1be9c19dbd\")>,\n",
       " <selenium.webdriver.remote.webelement.WebElement (session=\"d773dd239ccb06f929074ec472366c5d\", element=\"db6deacc-3763-4062-b65e-b02e653d4cae\")>,\n",
       " <selenium.webdriver.remote.webelement.WebElement (session=\"d773dd239ccb06f929074ec472366c5d\", element=\"56a63d7f-b2c3-4efb-9e38-8050d34ef699\")>,\n",
       " <selenium.webdriver.remote.webelement.WebElement (session=\"d773dd239ccb06f929074ec472366c5d\", element=\"97289507-459e-4e19-8664-b8e9ec52feab\")>,\n",
       " <selenium.webdriver.remote.webelement.WebElement (session=\"d773dd239ccb06f929074ec472366c5d\", element=\"d76d0208-33d0-4ffb-a59f-199b885d152a\")>,\n",
       " <selenium.webdriver.remote.webelement.WebElement (session=\"d773dd239ccb06f929074ec472366c5d\", element=\"0f534f7e-0e59-4edb-8c76-e85be723c618\")>,\n",
       " <selenium.webdriver.remote.webelement.WebElement (session=\"d773dd239ccb06f929074ec472366c5d\", element=\"f2eb29e2-6640-4337-9750-f19a6c09b515\")>,\n",
       " <selenium.webdriver.remote.webelement.WebElement (session=\"d773dd239ccb06f929074ec472366c5d\", element=\"7e6eb5af-e0de-48a0-a618-a4edbc7299ac\")>,\n",
       " <selenium.webdriver.remote.webelement.WebElement (session=\"d773dd239ccb06f929074ec472366c5d\", element=\"53e890f9-7cf0-44ca-921c-5d7ed9ca3a70\")>,\n",
       " <selenium.webdriver.remote.webelement.WebElement (session=\"d773dd239ccb06f929074ec472366c5d\", element=\"4ea6918e-a588-4268-9d2d-2e2a7bdd8758\")>,\n",
       " <selenium.webdriver.remote.webelement.WebElement (session=\"d773dd239ccb06f929074ec472366c5d\", element=\"1048aa50-8fed-4024-9f51-8820cecb517e\")>,\n",
       " <selenium.webdriver.remote.webelement.WebElement (session=\"d773dd239ccb06f929074ec472366c5d\", element=\"b5405706-575d-4601-ad0f-17c5a637f3ff\")>,\n",
       " <selenium.webdriver.remote.webelement.WebElement (session=\"d773dd239ccb06f929074ec472366c5d\", element=\"34d8fb68-4d49-4ca1-99c3-5553fadc3437\")>,\n",
       " <selenium.webdriver.remote.webelement.WebElement (session=\"d773dd239ccb06f929074ec472366c5d\", element=\"d52d5be4-0a57-4333-b32f-fd6fab76bd4a\")>,\n",
       " <selenium.webdriver.remote.webelement.WebElement (session=\"d773dd239ccb06f929074ec472366c5d\", element=\"d27f95cd-4fcc-4877-9ab8-b0a177c7eb9d\")>,\n",
       " <selenium.webdriver.remote.webelement.WebElement (session=\"d773dd239ccb06f929074ec472366c5d\", element=\"b3ef236f-a04d-4945-839c-26dd3b277630\")>,\n",
       " <selenium.webdriver.remote.webelement.WebElement (session=\"d773dd239ccb06f929074ec472366c5d\", element=\"f7d40212-a9a1-4760-becd-46ab4a0364cf\")>,\n",
       " <selenium.webdriver.remote.webelement.WebElement (session=\"d773dd239ccb06f929074ec472366c5d\", element=\"576884ba-f117-4e09-9dc9-3d3238b8f4f6\")>,\n",
       " <selenium.webdriver.remote.webelement.WebElement (session=\"d773dd239ccb06f929074ec472366c5d\", element=\"46106c22-749f-4506-b2c6-ac3c0fe59600\")>,\n",
       " <selenium.webdriver.remote.webelement.WebElement (session=\"d773dd239ccb06f929074ec472366c5d\", element=\"3334b33c-be79-4c7f-9e74-ce67e238c2fc\")>]"
      ]
     },
     "execution_count": 49,
     "metadata": {},
     "output_type": "execute_result"
    }
   ],
   "source": [
    "elems = driver.find_elements_by_xpath(\"//div[@class[contains(., 'adCard')]]/div/a\")\n",
    "elems"
   ]
  },
  {
   "cell_type": "code",
   "execution_count": 51,
   "id": "d51d5f41",
   "metadata": {},
   "outputs": [],
   "source": [
    "links = [elem.get_attribute('href') for elem in elems]"
   ]
  },
  {
   "cell_type": "code",
   "execution_count": 53,
   "id": "e47be4cd",
   "metadata": {},
   "outputs": [
    {
     "data": {
      "text/plain": [
       "['https://www.leboncoin.fr/ventes_immobilieres/1937128026.htm?ac=558505705',\n",
       " 'https://www.leboncoin.fr/ventes_immobilieres/1930816287.htm?ac=558505705',\n",
       " 'https://www.leboncoin.fr/ventes_immobilieres/1842521772.htm?ac=558505705',\n",
       " 'https://www.leboncoin.fr/ventes_immobilieres/1974205483.htm?ac=558505705',\n",
       " 'https://www.leboncoin.fr/ventes_immobilieres/2008619377.htm?ac=558505705',\n",
       " 'https://www.leboncoin.fr/ventes_immobilieres/1985937064.htm?ac=558505705',\n",
       " 'https://www.leboncoin.fr/ventes_immobilieres/2007169142.htm?ac=558505705',\n",
       " 'https://www.leboncoin.fr/ventes_immobilieres/1943885071.htm?ac=558505705',\n",
       " 'https://www.leboncoin.fr/ventes_immobilieres/1990325061.htm?ac=558505705',\n",
       " 'https://www.leboncoin.fr/ventes_immobilieres/2006027054.htm?ac=558505705',\n",
       " 'https://www.leboncoin.fr/ventes_immobilieres/1954405209.htm?ac=558505705',\n",
       " 'https://www.leboncoin.fr/ventes_immobilieres/1988717980.htm?ac=558505705',\n",
       " 'https://www.leboncoin.fr/ventes_immobilieres/1929340674.htm?ac=558505705',\n",
       " 'https://www.leboncoin.fr/ventes_immobilieres/1933477907.htm?ac=558505705',\n",
       " 'https://www.leboncoin.fr/ventes_immobilieres/2008182522.htm?ac=558505705',\n",
       " 'https://www.leboncoin.fr/ventes_immobilieres/2008257969.htm?ac=558505705',\n",
       " 'https://www.leboncoin.fr/ventes_immobilieres/2007958692.htm?ac=558505705',\n",
       " 'https://www.leboncoin.fr/ventes_immobilieres/1977041816.htm?ac=558505705',\n",
       " 'https://www.leboncoin.fr/ventes_immobilieres/1969462173.htm?ac=558505705',\n",
       " 'https://www.leboncoin.fr/ventes_immobilieres/2007676723.htm?ac=558505705',\n",
       " 'https://www.leboncoin.fr/ventes_immobilieres/2006919466.htm?ac=558505705',\n",
       " 'https://www.leboncoin.fr/ventes_immobilieres/1979250322.htm?ac=558505705',\n",
       " 'https://www.leboncoin.fr/ventes_immobilieres/1973442639.htm?ac=558505705',\n",
       " 'https://www.leboncoin.fr/ventes_immobilieres/2007344746.htm?ac=558505705',\n",
       " 'https://www.leboncoin.fr/ventes_immobilieres/2007540770.htm?ac=558505705',\n",
       " 'https://www.leboncoin.fr/ventes_immobilieres/1978704649.htm?ac=558505705',\n",
       " 'https://www.leboncoin.fr/ventes_immobilieres/2007281708.htm?ac=558505705',\n",
       " 'https://www.leboncoin.fr/ventes_immobilieres/1998818491.htm?ac=558505705',\n",
       " 'https://www.leboncoin.fr/ventes_immobilieres/1963321696.htm?ac=558505705',\n",
       " 'https://www.leboncoin.fr/ventes_immobilieres/1912318758.htm?ac=558505705',\n",
       " 'https://www.leboncoin.fr/ventes_immobilieres/1978807282.htm?ac=558505705',\n",
       " 'https://www.leboncoin.fr/ventes_immobilieres/1880410647.htm?ac=558505705',\n",
       " 'https://www.leboncoin.fr/ventes_immobilieres/2007013845.htm?ac=558505705',\n",
       " 'https://www.leboncoin.fr/ventes_immobilieres/1993799985.htm?ac=558505705',\n",
       " 'https://www.leboncoin.fr/ventes_immobilieres/2006975580.htm?ac=558505705',\n",
       " 'https://www.leboncoin.fr/ventes_immobilieres/2006898673.htm?ac=558505705']"
      ]
     },
     "execution_count": 53,
     "metadata": {},
     "output_type": "execute_result"
    }
   ],
   "source": [
    "links"
   ]
  },
  {
   "cell_type": "code",
   "execution_count": 149,
   "id": "4a01595c",
   "metadata": {},
   "outputs": [],
   "source": [
    "from selenium.webdriver.chrome.options import Options\n",
    "\n",
    "driver2 = webdriver.Chrome(options=options, executable_path=DRIVER_PATH)\n",
    "driver2.get(\"https://www.leboncoin.fr/ventes_immobilieres/2006975580.htm\")"
   ]
  },
  {
   "cell_type": "code",
   "execution_count": 150,
   "id": "778381f5",
   "metadata": {},
   "outputs": [
    {
     "data": {
      "text/plain": [
       "5"
      ]
     },
     "execution_count": 150,
     "metadata": {},
     "output_type": "execute_result"
    }
   ],
   "source": [
    "items = len(driver2.find_elements_by_xpath(\"//img[@alt[contains(., 'image')]]\"))\n",
    "items"
   ]
  },
  {
   "cell_type": "code",
   "execution_count": 151,
   "id": "a2965227",
   "metadata": {},
   "outputs": [
    {
     "data": {
      "text/plain": [
       "'Appartement 5 pièces 73 m²'"
      ]
     },
     "execution_count": 151,
     "metadata": {},
     "output_type": "execute_result"
    }
   ],
   "source": [
    "title = driver2.find_element_by_xpath(\"//h1\")\n",
    "title = title.get_attribute('innerHTML')\n",
    "title"
   ]
  },
  {
   "cell_type": "code",
   "execution_count": 152,
   "id": "fc3e5449",
   "metadata": {},
   "outputs": [
    {
     "data": {
      "text/plain": [
       "['5 Pièces<!-- -->&nbsp;<!-- -->·&nbsp;',\n",
       " '73 m²<!-- -->&nbsp;<!-- -->·&nbsp;',\n",
       " '100\\u202f000&nbsp;€']"
      ]
     },
     "execution_count": 152,
     "metadata": {},
     "output_type": "execute_result"
    }
   ],
   "source": [
    "attributes = driver2.find_elements_by_xpath(\"//div[@data-qa-id = 'adview_spotlight_description_container']/div/div/span\")\n",
    "attributes = [attribute.get_attribute('innerHTML') for attribute in attributes]\n",
    "attributes"
   ]
  },
  {
   "cell_type": "code",
   "execution_count": 153,
   "id": "a900f714",
   "metadata": {},
   "outputs": [
    {
     "ename": "ElementClickInterceptedException",
     "evalue": "Message: element click intercepted: Element <button type=\"button\" class=\"_27ngl _64Mha _2NG-q _29R_v _3Q3XS HGqCc Mb3fh _137P- P4PEa _35DXM\">...</button> is not clickable at point (45, 878). Other element would receive the click: <div data-qa-id=\"navbar_container\" class=\"sc-hzDkRC hbiLZL\">...</div>\n  (Session info: chrome=91.0.4472.124)\n",
     "output_type": "error",
     "traceback": [
      "\u001b[1;31m---------------------------------------------------------------------------\u001b[0m",
      "\u001b[1;31mElementClickInterceptedException\u001b[0m          Traceback (most recent call last)",
      "\u001b[1;32m<ipython-input-153-42b9cd6ed352>\u001b[0m in \u001b[0;36m<module>\u001b[1;34m\u001b[0m\n\u001b[0;32m      1\u001b[0m \u001b[1;31m#Test click \"Voir PLus\"\u001b[0m\u001b[1;33m\u001b[0m\u001b[1;33m\u001b[0m\u001b[1;33m\u001b[0m\u001b[0m\n\u001b[1;32m----> 2\u001b[1;33m \u001b[0mdriver2\u001b[0m\u001b[1;33m.\u001b[0m\u001b[0mfind_elements_by_xpath\u001b[0m\u001b[1;33m(\u001b[0m\u001b[1;34m\"//button[contains(text(), 'Voir plus')]\"\u001b[0m\u001b[1;33m)\u001b[0m\u001b[1;33m[\u001b[0m\u001b[1;36m1\u001b[0m\u001b[1;33m]\u001b[0m\u001b[1;33m.\u001b[0m\u001b[0mclick\u001b[0m\u001b[1;33m(\u001b[0m\u001b[1;33m)\u001b[0m\u001b[1;33m\u001b[0m\u001b[1;33m\u001b[0m\u001b[0m\n\u001b[0m",
      "\u001b[1;32m~\\anaconda\\envs\\Geo\\lib\\site-packages\\selenium\\webdriver\\remote\\webelement.py\u001b[0m in \u001b[0;36mclick\u001b[1;34m(self)\u001b[0m\n\u001b[0;32m     78\u001b[0m     \u001b[1;32mdef\u001b[0m \u001b[0mclick\u001b[0m\u001b[1;33m(\u001b[0m\u001b[0mself\u001b[0m\u001b[1;33m)\u001b[0m\u001b[1;33m:\u001b[0m\u001b[1;33m\u001b[0m\u001b[1;33m\u001b[0m\u001b[0m\n\u001b[0;32m     79\u001b[0m         \u001b[1;34m\"\"\"Clicks the element.\"\"\"\u001b[0m\u001b[1;33m\u001b[0m\u001b[1;33m\u001b[0m\u001b[0m\n\u001b[1;32m---> 80\u001b[1;33m         \u001b[0mself\u001b[0m\u001b[1;33m.\u001b[0m\u001b[0m_execute\u001b[0m\u001b[1;33m(\u001b[0m\u001b[0mCommand\u001b[0m\u001b[1;33m.\u001b[0m\u001b[0mCLICK_ELEMENT\u001b[0m\u001b[1;33m)\u001b[0m\u001b[1;33m\u001b[0m\u001b[1;33m\u001b[0m\u001b[0m\n\u001b[0m\u001b[0;32m     81\u001b[0m \u001b[1;33m\u001b[0m\u001b[0m\n\u001b[0;32m     82\u001b[0m     \u001b[1;32mdef\u001b[0m \u001b[0msubmit\u001b[0m\u001b[1;33m(\u001b[0m\u001b[0mself\u001b[0m\u001b[1;33m)\u001b[0m\u001b[1;33m:\u001b[0m\u001b[1;33m\u001b[0m\u001b[1;33m\u001b[0m\u001b[0m\n",
      "\u001b[1;32m~\\anaconda\\envs\\Geo\\lib\\site-packages\\selenium\\webdriver\\remote\\webelement.py\u001b[0m in \u001b[0;36m_execute\u001b[1;34m(self, command, params)\u001b[0m\n\u001b[0;32m    631\u001b[0m             \u001b[0mparams\u001b[0m \u001b[1;33m=\u001b[0m \u001b[1;33m{\u001b[0m\u001b[1;33m}\u001b[0m\u001b[1;33m\u001b[0m\u001b[1;33m\u001b[0m\u001b[0m\n\u001b[0;32m    632\u001b[0m         \u001b[0mparams\u001b[0m\u001b[1;33m[\u001b[0m\u001b[1;34m'id'\u001b[0m\u001b[1;33m]\u001b[0m \u001b[1;33m=\u001b[0m \u001b[0mself\u001b[0m\u001b[1;33m.\u001b[0m\u001b[0m_id\u001b[0m\u001b[1;33m\u001b[0m\u001b[1;33m\u001b[0m\u001b[0m\n\u001b[1;32m--> 633\u001b[1;33m         \u001b[1;32mreturn\u001b[0m \u001b[0mself\u001b[0m\u001b[1;33m.\u001b[0m\u001b[0m_parent\u001b[0m\u001b[1;33m.\u001b[0m\u001b[0mexecute\u001b[0m\u001b[1;33m(\u001b[0m\u001b[0mcommand\u001b[0m\u001b[1;33m,\u001b[0m \u001b[0mparams\u001b[0m\u001b[1;33m)\u001b[0m\u001b[1;33m\u001b[0m\u001b[1;33m\u001b[0m\u001b[0m\n\u001b[0m\u001b[0;32m    634\u001b[0m \u001b[1;33m\u001b[0m\u001b[0m\n\u001b[0;32m    635\u001b[0m     \u001b[1;32mdef\u001b[0m \u001b[0mfind_element\u001b[0m\u001b[1;33m(\u001b[0m\u001b[0mself\u001b[0m\u001b[1;33m,\u001b[0m \u001b[0mby\u001b[0m\u001b[1;33m=\u001b[0m\u001b[0mBy\u001b[0m\u001b[1;33m.\u001b[0m\u001b[0mID\u001b[0m\u001b[1;33m,\u001b[0m \u001b[0mvalue\u001b[0m\u001b[1;33m=\u001b[0m\u001b[1;32mNone\u001b[0m\u001b[1;33m)\u001b[0m\u001b[1;33m:\u001b[0m\u001b[1;33m\u001b[0m\u001b[1;33m\u001b[0m\u001b[0m\n",
      "\u001b[1;32m~\\anaconda\\envs\\Geo\\lib\\site-packages\\selenium\\webdriver\\remote\\webdriver.py\u001b[0m in \u001b[0;36mexecute\u001b[1;34m(self, driver_command, params)\u001b[0m\n\u001b[0;32m    319\u001b[0m         \u001b[0mresponse\u001b[0m \u001b[1;33m=\u001b[0m \u001b[0mself\u001b[0m\u001b[1;33m.\u001b[0m\u001b[0mcommand_executor\u001b[0m\u001b[1;33m.\u001b[0m\u001b[0mexecute\u001b[0m\u001b[1;33m(\u001b[0m\u001b[0mdriver_command\u001b[0m\u001b[1;33m,\u001b[0m \u001b[0mparams\u001b[0m\u001b[1;33m)\u001b[0m\u001b[1;33m\u001b[0m\u001b[1;33m\u001b[0m\u001b[0m\n\u001b[0;32m    320\u001b[0m         \u001b[1;32mif\u001b[0m \u001b[0mresponse\u001b[0m\u001b[1;33m:\u001b[0m\u001b[1;33m\u001b[0m\u001b[1;33m\u001b[0m\u001b[0m\n\u001b[1;32m--> 321\u001b[1;33m             \u001b[0mself\u001b[0m\u001b[1;33m.\u001b[0m\u001b[0merror_handler\u001b[0m\u001b[1;33m.\u001b[0m\u001b[0mcheck_response\u001b[0m\u001b[1;33m(\u001b[0m\u001b[0mresponse\u001b[0m\u001b[1;33m)\u001b[0m\u001b[1;33m\u001b[0m\u001b[1;33m\u001b[0m\u001b[0m\n\u001b[0m\u001b[0;32m    322\u001b[0m             response['value'] = self._unwrap_value(\n\u001b[0;32m    323\u001b[0m                 response.get('value', None))\n",
      "\u001b[1;32m~\\anaconda\\envs\\Geo\\lib\\site-packages\\selenium\\webdriver\\remote\\errorhandler.py\u001b[0m in \u001b[0;36mcheck_response\u001b[1;34m(self, response)\u001b[0m\n\u001b[0;32m    240\u001b[0m                 \u001b[0malert_text\u001b[0m \u001b[1;33m=\u001b[0m \u001b[0mvalue\u001b[0m\u001b[1;33m[\u001b[0m\u001b[1;34m'alert'\u001b[0m\u001b[1;33m]\u001b[0m\u001b[1;33m.\u001b[0m\u001b[0mget\u001b[0m\u001b[1;33m(\u001b[0m\u001b[1;34m'text'\u001b[0m\u001b[1;33m)\u001b[0m\u001b[1;33m\u001b[0m\u001b[1;33m\u001b[0m\u001b[0m\n\u001b[0;32m    241\u001b[0m             \u001b[1;32mraise\u001b[0m \u001b[0mexception_class\u001b[0m\u001b[1;33m(\u001b[0m\u001b[0mmessage\u001b[0m\u001b[1;33m,\u001b[0m \u001b[0mscreen\u001b[0m\u001b[1;33m,\u001b[0m \u001b[0mstacktrace\u001b[0m\u001b[1;33m,\u001b[0m \u001b[0malert_text\u001b[0m\u001b[1;33m)\u001b[0m\u001b[1;33m\u001b[0m\u001b[1;33m\u001b[0m\u001b[0m\n\u001b[1;32m--> 242\u001b[1;33m         \u001b[1;32mraise\u001b[0m \u001b[0mexception_class\u001b[0m\u001b[1;33m(\u001b[0m\u001b[0mmessage\u001b[0m\u001b[1;33m,\u001b[0m \u001b[0mscreen\u001b[0m\u001b[1;33m,\u001b[0m \u001b[0mstacktrace\u001b[0m\u001b[1;33m)\u001b[0m\u001b[1;33m\u001b[0m\u001b[1;33m\u001b[0m\u001b[0m\n\u001b[0m\u001b[0;32m    243\u001b[0m \u001b[1;33m\u001b[0m\u001b[0m\n\u001b[0;32m    244\u001b[0m     \u001b[1;32mdef\u001b[0m \u001b[0m_value_or_default\u001b[0m\u001b[1;33m(\u001b[0m\u001b[0mself\u001b[0m\u001b[1;33m,\u001b[0m \u001b[0mobj\u001b[0m\u001b[1;33m,\u001b[0m \u001b[0mkey\u001b[0m\u001b[1;33m,\u001b[0m \u001b[0mdefault\u001b[0m\u001b[1;33m)\u001b[0m\u001b[1;33m:\u001b[0m\u001b[1;33m\u001b[0m\u001b[1;33m\u001b[0m\u001b[0m\n",
      "\u001b[1;31mElementClickInterceptedException\u001b[0m: Message: element click intercepted: Element <button type=\"button\" class=\"_27ngl _64Mha _2NG-q _29R_v _3Q3XS HGqCc Mb3fh _137P- P4PEa _35DXM\">...</button> is not clickable at point (45, 878). Other element would receive the click: <div data-qa-id=\"navbar_container\" class=\"sc-hzDkRC hbiLZL\">...</div>\n  (Session info: chrome=91.0.4472.124)\n"
     ]
    }
   ],
   "source": [
    "#Test click \"Voir PLus\"\n",
    "driver2.find_elements_by_xpath(\"//button[contains(text(), 'Voir plus')]\")[1].click()"
   ]
  },
  {
   "cell_type": "code",
   "execution_count": 154,
   "id": "a07b4dae",
   "metadata": {},
   "outputs": [
    {
     "data": {
      "text/plain": [
       "\"REFERENCE ANNONCE : F5 MSA - MONT-SAINT-AIGNAN à vendre en E-VENTE ( ventes aux enchères en ligne) entre la Place Colbert et le centre commercial des Coquets,  F5 de 73m² au 4ème et dernier étage sans ascenseur\\nl'appartement se compose d'une entrée,  d'un séjour/ salon de 22m² exposé Sud, d'une cuisine aménagée, d'une arrière cuisine, un dégagement avec placards dessert 3 chambres (10 et 9m²), un wc, et une salle de douches. Cave. Local à vélos commun. Charges de 580 Euros par trimestre. Chauffa...\""
      ]
     },
     "execution_count": 154,
     "metadata": {},
     "output_type": "execute_result"
    }
   ],
   "source": [
    "desc = driver2.find_element_by_xpath(\"//div[@data-qa-id = 'adview_description_container']/div/p\")\n",
    "desc = desc.get_attribute('innerHTML')\n",
    "desc"
   ]
  },
  {
   "cell_type": "code",
   "execution_count": 156,
   "id": "4cebf919",
   "metadata": {},
   "outputs": [],
   "source": [
    "#Test click \"Voir les photos\"\n",
    "driver2.find_element_by_xpath(\"//button/span[contains(text(), 'photos')]\").click()"
   ]
  },
  {
   "cell_type": "code",
   "execution_count": 159,
   "id": "e4d060ff",
   "metadata": {},
   "outputs": [],
   "source": [
    "# Récup images\n",
    "images = driver2.find_elements_by_xpath(\"//img[@src[contains(., 'large')]]\")"
   ]
  },
  {
   "cell_type": "code",
   "execution_count": 160,
   "id": "c3743a43",
   "metadata": {},
   "outputs": [],
   "source": [
    "images = [image.get_attribute('src') for image in images]"
   ]
  },
  {
   "cell_type": "code",
   "execution_count": 161,
   "id": "9d523825",
   "metadata": {},
   "outputs": [
    {
     "data": {
      "text/plain": [
       "['https://img.leboncoin.fr/api/v1/lbcpb1/images/e4/f1/bb/e4f1bb3bc233b2d9dfc837c95c16f388d014c85d.jpg?rule=ad-large',\n",
       " 'https://img.leboncoin.fr/api/v1/lbcpb1/images/f2/db/b2/f2dbb2240caa8dc871d122834259119f6ce1aead.jpg?rule=ad-large',\n",
       " 'https://img.leboncoin.fr/api/v1/lbcpb1/images/e4/f1/bb/e4f1bb3bc233b2d9dfc837c95c16f388d014c85d.jpg?rule=ad-large',\n",
       " 'https://img.leboncoin.fr/api/v1/lbcpb1/images/f2/db/b2/f2dbb2240caa8dc871d122834259119f6ce1aead.jpg?rule=ad-large',\n",
       " 'https://img.leboncoin.fr/api/v1/lbcpb1/images/9e/a0/d5/9ea0d5cddfaabdf9a639d3a33e052d26aeddc3f2.jpg?rule=ad-large',\n",
       " 'https://img.leboncoin.fr/api/v1/lbcpb1/images/e4/f1/bb/e4f1bb3bc233b2d9dfc837c95c16f388d014c85d.jpg?rule=ad-large',\n",
       " 'https://img.leboncoin.fr/api/v1/lbcpb1/images/f2/db/b2/f2dbb2240caa8dc871d122834259119f6ce1aead.jpg?rule=ad-large',\n",
       " 'https://img.leboncoin.fr/api/v1/lbcpb1/images/9e/a0/d5/9ea0d5cddfaabdf9a639d3a33e052d26aeddc3f2.jpg?rule=ad-large',\n",
       " 'https://img.leboncoin.fr/api/v1/lbcpb1/images/15/88/83/158883b9b4c99b6e019246f7ceb586bf2340e424.jpg?rule=ad-large',\n",
       " 'https://img.leboncoin.fr/api/v1/lbcpb1/images/60/6d/92/606d92df669becf01ef5d05c079d6b67880fa6a5.jpg?rule=ad-large',\n",
       " 'https://img.leboncoin.fr/api/v1/lbcpb1/images/bc/ec/d4/bcecd48b2af7b7ee7b38b434ea1e24752e13cbf4.jpg?rule=ad-large',\n",
       " 'https://img.leboncoin.fr/api/v1/lbcpb1/images/78/30/cf/7830cf9ff6a1d3dbd2212bf48353d9c8c46cc97e.jpg?rule=ad-large',\n",
       " 'https://img.leboncoin.fr/api/v1/lbcpb1/images/03/7d/e0/037de0c313ee8129f8b94639465e01fa93fedc64.jpg?rule=ad-large',\n",
       " 'https://img.leboncoin.fr/api/v1/lbcpb1/images/be/6f/b3/be6fb37ff9eac5f0e5daf5ea5fec6e0c440e87e4.jpg?rule=ad-large',\n",
       " 'https://img.leboncoin.fr/api/v1/lbcpb1/images/1e/76/9a/1e769a4a2cfba207edfe4a8daa143a08e65600c0.jpg?rule=ad-large']"
      ]
     },
     "execution_count": 161,
     "metadata": {},
     "output_type": "execute_result"
    }
   ],
   "source": [
    "images"
   ]
  },
  {
   "cell_type": "code",
   "execution_count": 163,
   "id": "e73856b4",
   "metadata": {},
   "outputs": [
    {
     "data": {
      "text/plain": [
       "['Appartement',\n",
       " 'Surface de 73 m²',\n",
       " '5 pièces',\n",
       " 'Honoraires : Oui',\n",
       " 'Référence : f5_msa_17075']"
      ]
     },
     "execution_count": 163,
     "metadata": {},
     "output_type": "execute_result"
    }
   ],
   "source": [
    "criteria = driver2.find_elements_by_xpath(\"//div[@data-qa-id = 'criteria_container']/div/div/div/span\")\n",
    "criteria = [criterium.get_attribute('innerHTML') for criterium in criteria]\n",
    "criteria"
   ]
  },
  {
   "cell_type": "code",
   "execution_count": null,
   "id": "31df9820",
   "metadata": {},
   "outputs": [],
   "source": []
  }
 ],
 "metadata": {
  "kernelspec": {
   "display_name": "Python 3",
   "language": "python",
   "name": "python3"
  },
  "language_info": {
   "codemirror_mode": {
    "name": "ipython",
    "version": 3
   },
   "file_extension": ".py",
   "mimetype": "text/x-python",
   "name": "python",
   "nbconvert_exporter": "python",
   "pygments_lexer": "ipython3",
   "version": "3.8.10"
  }
 },
 "nbformat": 4,
 "nbformat_minor": 5
}
