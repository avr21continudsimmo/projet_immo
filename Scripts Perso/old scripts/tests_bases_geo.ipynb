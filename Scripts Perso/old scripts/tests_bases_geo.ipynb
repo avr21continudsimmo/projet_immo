{
 "cells": [
  {
   "cell_type": "code",
   "execution_count": 2,
   "metadata": {},
   "outputs": [],
   "source": [
    "import pandas as pd\n",
    "import numpy as np\n",
    "from geopy.geocoders import Nominatim\n",
    "import json\n",
    "import requests\n",
    "import time"
   ]
  },
  {
   "cell_type": "code",
   "execution_count": null,
   "metadata": {},
   "outputs": [],
   "source": [
    "# To find the address corresponding to a set of coordinates:\n",
    "\n",
    "from geopy.geocoders import Nominatim\n",
    "geolocator = Nominatim(user_agent=\"test\")\n",
    "location = geolocator.reverse(\"48.9127988, 2.442301\")\n",
    "\n",
    "print(location.address)\n",
    "print((location.latitude, location.longitude))\n",
    "print(location.raw)"
   ]
  },
  {
   "cell_type": "code",
   "execution_count": null,
   "metadata": {},
   "outputs": [],
   "source": [
    "# Calculer une distance en kms entre deux points\n",
    "\n",
    "from geopy.distance import geodesic\n",
    "\n",
    "newport_ri = (41.49008, -71.312796)\n",
    "cleveland_oh = (41.499498, -81.695391)\n",
    "print(geodesic(newport_ri, cleveland_oh).kilometers)"
   ]
  },
  {
   "cell_type": "code",
   "execution_count": null,
   "metadata": {},
   "outputs": [],
   "source": [
    "# trouver les biens à moins de 300km de Lyon : [45.7578137,4.8320114]\n",
    "test['nearLyon']=test.apply(lambda row: \n",
    "    pos.distance([45.7578137,4.8320114],row['gps'])<300\n",
    "    , axis = 1)\n",
    "\n",
    "print(test[['addressName','nearLyon']])"
   ]
  },
  {
   "cell_type": "code",
   "execution_count": 16,
   "metadata": {},
   "outputs": [
    {
     "name": "stdout",
     "output_type": "stream",
     "text": [
      "012030000\n",
      "{'nomCommune': 'Laiz', 'codeCommune': '01203', 'iris': '0000', 'codeIris': '012030000', 'nomIris': 'Laiz', 'typeIris': 'Z'}\n"
     ]
    }
   ],
   "source": [
    "# Récupérer le quartier IRIS d'un point GPS\n",
    "import json\n",
    "import requests\n",
    "\n",
    "result = requests.get('https://geo.api.gouv.fr/iris?lon=4.894293&lat=46.249847&codeCommune=01203')\n",
    "obj = json.loads(result.text)\n",
    "print(obj['codeIris'])\n",
    "print(obj)"
   ]
  },
  {
   "cell_type": "code",
   "execution_count": null,
   "metadata": {},
   "outputs": [],
   "source": []
  }
 ],
 "metadata": {
  "kernelspec": {
   "display_name": "Python 3",
   "language": "python",
   "name": "python3"
  },
  "language_info": {
   "codemirror_mode": {
    "name": "ipython",
    "version": 3
   },
   "file_extension": ".py",
   "mimetype": "text/x-python",
   "name": "python",
   "nbconvert_exporter": "python",
   "pygments_lexer": "ipython3",
   "version": "3.8.10"
  }
 },
 "nbformat": 4,
 "nbformat_minor": 4
}
