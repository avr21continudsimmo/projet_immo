{
 "cells": [
  {
   "cell_type": "code",
   "execution_count": 16,
   "id": "71bd6a5a",
   "metadata": {},
   "outputs": [],
   "source": [
    "import pandas as pd"
   ]
  },
  {
   "cell_type": "code",
   "execution_count": 25,
   "id": "ea9d2e55",
   "metadata": {},
   "outputs": [],
   "source": [
    "from sklearn.feature_selection import VarianceThreshold, SelectKBest, SelectFromModel, f_regression, mutual_info_regression, RFE, RFECV\n",
    "from sklearn.model_selection import train_test_split, KFold, GridSearchCV\n",
    "from sklearn.linear_model import LinearRegression, Lasso\n",
    "from sklearn.preprocessing import StandardScaler\n",
    "from sklearn.metrics import mean_squared_error, mean_absolute_error\n",
    "from sklearn.ensemble import RandomForestRegressor\n",
    "import numpy as np\n",
    "import matplotlib.pyplot as plt\n",
    "import pandas as pd\n",
    "%matplotlib inline"
   ]
  },
  {
   "cell_type": "code",
   "execution_count": 17,
   "id": "8e4fd1bf",
   "metadata": {},
   "outputs": [
    {
     "name": "stderr",
     "output_type": "stream",
     "text": [
      "C:\\Users\\olivier\\anaconda\\envs\\Geo\\lib\\site-packages\\IPython\\core\\interactiveshell.py:3165: DtypeWarning: Columns (14,27,35) have mixed types.Specify dtype option on import or set low_memory=False.\n",
      "  has_raised = await self.run_ast_nodes(code_ast.body, cell_name,\n"
     ]
    },
    {
     "data": {
      "text/plain": [
       "(523639, 47)"
      ]
     },
     "execution_count": 17,
     "metadata": {},
     "output_type": "execute_result"
    }
   ],
   "source": [
    "df = pd.read_csv(\"databases/inter/01B - dvf_sans_gps_iris_2020.csv\", sep = \",\", decimal = \",\")\n",
    "df.shape"
   ]
  },
  {
   "cell_type": "code",
   "execution_count": 18,
   "id": "ee3e15ec",
   "metadata": {},
   "outputs": [
    {
     "data": {
      "text/plain": [
       "Index(['Unnamed: 0', 'No disposition', 'Date mutation', 'Nature mutation',\n",
       "       'Valeur fonciere', 'No voie', 'B/T/Q', 'Type de voie', 'Code voie',\n",
       "       'Voie', 'Code postal', 'Commune', 'Code departement', 'Code commune',\n",
       "       'Prefixe de section', 'Section', 'No plan', 'No Volume', '1er lot',\n",
       "       'Surface Carrez du 1er lot', '2eme lot', 'Surface Carrez du 2eme lot',\n",
       "       '3eme lot', 'Surface Carrez du 3eme lot', '4eme lot',\n",
       "       'Surface Carrez du 4eme lot', '5eme lot', 'Surface Carrez du 5eme lot',\n",
       "       'Nombre de lots', 'Code type local', 'Type local', 'Identifiant local',\n",
       "       'Surface reelle bati', 'Nombre pieces principales', 'Nature culture',\n",
       "       'Nature culture speciale', 'Surface terrain', 'Code commune INSEE',\n",
       "       'Ville', 'Adresse', 'Prix m2', 'Paris', 'dep_name_x', 'region_name_x',\n",
       "       'dep_name_y', 'region_name_y', 'Mer'],\n",
       "      dtype='object')"
      ]
     },
     "execution_count": 18,
     "metadata": {},
     "output_type": "execute_result"
    }
   ],
   "source": [
    "df.columns"
   ]
  },
  {
   "cell_type": "code",
   "execution_count": 20,
   "id": "712d01e8",
   "metadata": {},
   "outputs": [
    {
     "data": {
      "text/html": [
       "<div>\n",
       "<style scoped>\n",
       "    .dataframe tbody tr th:only-of-type {\n",
       "        vertical-align: middle;\n",
       "    }\n",
       "\n",
       "    .dataframe tbody tr th {\n",
       "        vertical-align: top;\n",
       "    }\n",
       "\n",
       "    .dataframe thead th {\n",
       "        text-align: right;\n",
       "    }\n",
       "</style>\n",
       "<table border=\"1\" class=\"dataframe\">\n",
       "  <thead>\n",
       "    <tr style=\"text-align: right;\">\n",
       "      <th></th>\n",
       "      <th>Valeur fonciere</th>\n",
       "      <th>Surface reelle bati</th>\n",
       "      <th>Nombre pieces principales</th>\n",
       "      <th>Type local</th>\n",
       "    </tr>\n",
       "  </thead>\n",
       "  <tbody>\n",
       "    <tr>\n",
       "      <th>0</th>\n",
       "      <td>268800.0</td>\n",
       "      <td>24.0</td>\n",
       "      <td>1.0</td>\n",
       "      <td>Appartement</td>\n",
       "    </tr>\n",
       "    <tr>\n",
       "      <th>1</th>\n",
       "      <td>878378.0</td>\n",
       "      <td>66.0</td>\n",
       "      <td>2.0</td>\n",
       "      <td>Appartement</td>\n",
       "    </tr>\n",
       "    <tr>\n",
       "      <th>2</th>\n",
       "      <td>680000.0</td>\n",
       "      <td>51.0</td>\n",
       "      <td>2.0</td>\n",
       "      <td>Appartement</td>\n",
       "    </tr>\n",
       "    <tr>\n",
       "      <th>3</th>\n",
       "      <td>370000.0</td>\n",
       "      <td>21.0</td>\n",
       "      <td>1.0</td>\n",
       "      <td>Appartement</td>\n",
       "    </tr>\n",
       "    <tr>\n",
       "      <th>4</th>\n",
       "      <td>741500.0</td>\n",
       "      <td>61.0</td>\n",
       "      <td>2.0</td>\n",
       "      <td>Appartement</td>\n",
       "    </tr>\n",
       "  </tbody>\n",
       "</table>\n",
       "</div>"
      ],
      "text/plain": [
       "  Valeur fonciere Surface reelle bati Nombre pieces principales   Type local\n",
       "0        268800.0                24.0                       1.0  Appartement\n",
       "1        878378.0                66.0                       2.0  Appartement\n",
       "2        680000.0                51.0                       2.0  Appartement\n",
       "3        370000.0                21.0                       1.0  Appartement\n",
       "4        741500.0                61.0                       2.0  Appartement"
      ]
     },
     "execution_count": 20,
     "metadata": {},
     "output_type": "execute_result"
    }
   ],
   "source": [
    "df = df[['Valeur fonciere', 'Surface reelle bati', 'Nombre pieces principales', 'Type local']]\n",
    "df.head()"
   ]
  },
  {
   "cell_type": "code",
   "execution_count": 21,
   "id": "51020262",
   "metadata": {},
   "outputs": [
    {
     "data": {
      "text/plain": [
       "(523639, 4)"
      ]
     },
     "execution_count": 21,
     "metadata": {},
     "output_type": "execute_result"
    }
   ],
   "source": [
    "df = df.dropna()\n",
    "df.shape"
   ]
  },
  {
   "cell_type": "code",
   "execution_count": 22,
   "id": "0d0e74b5",
   "metadata": {},
   "outputs": [
    {
     "data": {
      "text/html": [
       "<div>\n",
       "<style scoped>\n",
       "    .dataframe tbody tr th:only-of-type {\n",
       "        vertical-align: middle;\n",
       "    }\n",
       "\n",
       "    .dataframe tbody tr th {\n",
       "        vertical-align: top;\n",
       "    }\n",
       "\n",
       "    .dataframe thead th {\n",
       "        text-align: right;\n",
       "    }\n",
       "</style>\n",
       "<table border=\"1\" class=\"dataframe\">\n",
       "  <thead>\n",
       "    <tr style=\"text-align: right;\">\n",
       "      <th></th>\n",
       "      <th>Valeur fonciere</th>\n",
       "      <th>Surface reelle bati</th>\n",
       "      <th>Nombre pieces principales</th>\n",
       "      <th>Type local</th>\n",
       "    </tr>\n",
       "  </thead>\n",
       "  <tbody>\n",
       "    <tr>\n",
       "      <th>0</th>\n",
       "      <td>268800.0</td>\n",
       "      <td>24.0</td>\n",
       "      <td>1.0</td>\n",
       "      <td>0</td>\n",
       "    </tr>\n",
       "    <tr>\n",
       "      <th>1</th>\n",
       "      <td>878378.0</td>\n",
       "      <td>66.0</td>\n",
       "      <td>2.0</td>\n",
       "      <td>0</td>\n",
       "    </tr>\n",
       "    <tr>\n",
       "      <th>2</th>\n",
       "      <td>680000.0</td>\n",
       "      <td>51.0</td>\n",
       "      <td>2.0</td>\n",
       "      <td>0</td>\n",
       "    </tr>\n",
       "    <tr>\n",
       "      <th>3</th>\n",
       "      <td>370000.0</td>\n",
       "      <td>21.0</td>\n",
       "      <td>1.0</td>\n",
       "      <td>0</td>\n",
       "    </tr>\n",
       "    <tr>\n",
       "      <th>4</th>\n",
       "      <td>741500.0</td>\n",
       "      <td>61.0</td>\n",
       "      <td>2.0</td>\n",
       "      <td>0</td>\n",
       "    </tr>\n",
       "  </tbody>\n",
       "</table>\n",
       "</div>"
      ],
      "text/plain": [
       "  Valeur fonciere Surface reelle bati Nombre pieces principales  Type local\n",
       "0        268800.0                24.0                       1.0           0\n",
       "1        878378.0                66.0                       2.0           0\n",
       "2        680000.0                51.0                       2.0           0\n",
       "3        370000.0                21.0                       1.0           0\n",
       "4        741500.0                61.0                       2.0           0"
      ]
     },
     "execution_count": 22,
     "metadata": {},
     "output_type": "execute_result"
    }
   ],
   "source": [
    "df['Type local'] = df.apply(lambda x: 1 if x['Type local'] == \"Maison\" else 0, axis = 1)\n",
    "df.head()"
   ]
  },
  {
   "cell_type": "code",
   "execution_count": 23,
   "id": "c18e019e",
   "metadata": {},
   "outputs": [
    {
     "name": "stdout",
     "output_type": "stream",
     "text": [
      "184500.0\n"
     ]
    }
   ],
   "source": [
    "target = df['Valeur fonciere']\n",
    "print(target.median())"
   ]
  },
  {
   "cell_type": "code",
   "execution_count": 24,
   "id": "0b00d332",
   "metadata": {},
   "outputs": [
    {
     "data": {
      "text/plain": [
       "(523639, 3)"
      ]
     },
     "execution_count": 24,
     "metadata": {},
     "output_type": "execute_result"
    }
   ],
   "source": [
    "df = df.drop(columns = {'Valeur fonciere'})\n",
    "df.shape"
   ]
  },
  {
   "cell_type": "code",
   "execution_count": 26,
   "id": "c429e40f",
   "metadata": {},
   "outputs": [],
   "source": [
    "X_train, X_test, y_train, y_test = train_test_split(df, target, test_size = 0.2, random_state = 1234)"
   ]
  },
  {
   "cell_type": "code",
   "execution_count": null,
   "id": "6504759d",
   "metadata": {},
   "outputs": [],
   "source": []
  },
  {
   "cell_type": "code",
   "execution_count": 27,
   "id": "b23d28d2",
   "metadata": {},
   "outputs": [],
   "source": [
    "# Fonction d'entraînement de modèle Random Forest\n",
    "\n",
    "def random_forest_model(X_train, X_test, y_train, y_test):\n",
    "    print('X_train.shape: ', X_train.shape)\n",
    "    print('X_test.shape: ', X_test.shape)\n",
    "    print('y_train.shape: ', y_train.shape)\n",
    "    print('y_test.shape: ', y_test.shape)\n",
    "    \n",
    "    regr = RandomForestRegressor(n_estimators = 50, max_depth = 500, min_samples_leaf = 5, random_state = 123)\n",
    "    regr.fit(X_train, y_train)\n",
    "    \n",
    "    y_pred_train = regr.predict(X_train) \n",
    "    y_pred_test = regr.predict(X_test)\n",
    "    \n",
    "    score_train = regr.score(X_train, y_train)\n",
    "    score_test = regr.score(X_test, y_test)\n",
    "    rmse_train = mean_squared_error(y_pred_train, y_train, squared=False)\n",
    "    rmse_test = mean_squared_error(y_pred_test, y_test, squared=False)\n",
    "    mae_train = mean_absolute_error(y_pred_train, y_train)\n",
    "    mae_test = mean_absolute_error(y_pred_test, y_test)\n",
    "    \n",
    "    results = {'score_train': score_train, 'score_test': score_test,\n",
    "              'rmse_train': rmse_train, 'rmse_test': rmse_test,\n",
    "              'mae_train': mae_train, 'mae_test': mae_test}\n",
    "\n",
    "    print(\"score train:\", score_train)\n",
    "    print(\"score test:\", score_test)\n",
    "\n",
    "    print(\"rmse train : \", rmse_train)\n",
    "    print('rmse test :', rmse_test)\n",
    "\n",
    "    print(\"mae train : \", mae_train)\n",
    "    print('mae test :', mae_test)\n",
    "    \n",
    "    return regr, results"
   ]
  },
  {
   "cell_type": "code",
   "execution_count": 28,
   "id": "0d3a099a",
   "metadata": {},
   "outputs": [],
   "source": [
    "column_list = df.columns.values"
   ]
  },
  {
   "cell_type": "code",
   "execution_count": 29,
   "id": "7d346db0",
   "metadata": {},
   "outputs": [],
   "source": [
    "# Fonction de réduction de dimension de type lasso\n",
    "\n",
    "from sklearn.linear_model import Lasso\n",
    "\n",
    "def reduc_dim_lasso(X_train, X_test, y_train, y_test):\n",
    "    \n",
    "    scaler = StandardScaler()\n",
    "    X_train = scaler.fit_transform(X_train)\n",
    "    X_test = scaler.transform(X_test)\n",
    "\n",
    "    lasso_r = Lasso(alpha = 1)\n",
    "    lasso_r.fit(X_train, y_train)\n",
    "\n",
    "    sel = SelectFromModel(estimator = lasso_r, threshold = 1e-10)\n",
    "    sel.fit(X_train, y_train)\n",
    "\n",
    "    mask = sel.get_support()\n",
    "    plt.matshow(mask.reshape(1,-1), cmap = 'gray_r')\n",
    "    plt.xlabel('Axe des features');\n",
    "    plt.show();\n",
    "\n",
    "    # Afficher un graphique représentant la valeur estimée du coefficient pour chaque variable de data\n",
    "    plt.figure(figsize = (20, 10))\n",
    "\n",
    "    lasso_coef = lasso_r.coef_ \n",
    "    plt.bar(range(len(df.columns)), lasso_coef) \n",
    "    plt.xticks(range(len(df.columns)), column_list, rotation=70);"
   ]
  },
  {
   "cell_type": "code",
   "execution_count": 30,
   "id": "a30a61da",
   "metadata": {},
   "outputs": [
    {
     "name": "stdout",
     "output_type": "stream",
     "text": [
      "X_train.shape:  (418911, 3)\n",
      "X_test.shape:  (104728, 3)\n",
      "y_train.shape:  (418911,)\n",
      "y_test.shape:  (104728,)\n",
      "score train: 0.2373155170000114\n",
      "score test: 0.22353131731637055\n",
      "rmse train :  153177.93720942608\n",
      "rmse test : 153652.98686507248\n",
      "mae train :  102130.07568291614\n",
      "mae test : 102539.36481522079\n"
     ]
    },
    {
     "data": {
      "image/png": "[encoded data removed]",
      "text/plain": [
       "<Figure size 864x288 with 1 Axes>"
      ]
     },
     "metadata": {
      "needs_background": "light"
     },
     "output_type": "display_data"
    },
    {
     "data": {
      "image/png": "[encoded data removed]",
      "text/plain": [
       "<Figure size 1440x720 with 1 Axes>"
      ]
     },
     "metadata": {
      "needs_background": "light"
     },
     "output_type": "display_data"
    }
   ],
   "source": [
    "# Modèle global\n",
    "rf_all, results_all = random_forest_model(X_train, X_test, y_train, y_test)\n",
    "reduc_dim_lasso(X_train, X_test, y_train, y_test)"
   ]
  },
  {
   "cell_type": "code",
   "execution_count": null,
   "id": "b78fab04",
   "metadata": {},
   "outputs": [],
   "source": []
  }
 ],
 "metadata": {
  "kernelspec": {
   "display_name": "Python 3",
   "language": "python",
   "name": "python3"
  },
  "language_info": {
   "codemirror_mode": {
    "name": "ipython",
    "version": 3
   },
   "file_extension": ".py",
   "mimetype": "text/x-python",
   "name": "python",
   "nbconvert_exporter": "python",
   "pygments_lexer": "ipython3",
   "version": "3.8.10"
  }
 },
 "nbformat": 4,
 "nbformat_minor": 5
}
